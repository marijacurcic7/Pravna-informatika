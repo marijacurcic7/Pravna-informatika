{
 "cells": [
  {
   "cell_type": "code",
   "execution_count": 2,
   "id": "fc650ba1",
   "metadata": {},
   "outputs": [],
   "source": [
    "import csv\n",
    "import numpy as np\n",
    "import pandas as pd\n",
    "import math"
   ]
  },
  {
   "cell_type": "code",
   "execution_count": 11,
   "id": "b789681f",
   "metadata": {},
   "outputs": [
    {
     "data": {
      "text/html": [
       "<div>\n",
       "<style scoped>\n",
       "    .dataframe tbody tr th:only-of-type {\n",
       "        vertical-align: middle;\n",
       "    }\n",
       "\n",
       "    .dataframe tbody tr th {\n",
       "        vertical-align: top;\n",
       "    }\n",
       "\n",
       "    .dataframe thead th {\n",
       "        text-align: right;\n",
       "    }\n",
       "</style>\n",
       "<table border=\"1\" class=\"dataframe\">\n",
       "  <thead>\n",
       "    <tr style=\"text-align: right;\">\n",
       "      <th></th>\n",
       "      <th>Column1</th>\n",
       "      <th>sentence</th>\n",
       "      <th>label</th>\n",
       "      <th>filename</th>\n",
       "    </tr>\n",
       "  </thead>\n",
       "  <tbody>\n",
       "    <tr>\n",
       "      <th>0</th>\n",
       "      <td>309</td>\n",
       "      <td>osnovni sud u beranama k.br75/11 u ime naroda ...</td>\n",
       "      <td>0.0</td>\n",
       "      <td>data\\K - PRVOSTEPENI KRIVIČNI PREDMETI\\presuda...</td>\n",
       "    </tr>\n",
       "    <tr>\n",
       "      <th>1</th>\n",
       "      <td>310</td>\n",
       "      <td>2011. godine, nakon održanog glavnog i javnog ...</td>\n",
       "      <td>0.0</td>\n",
       "      <td>data\\K - PRVOSTEPENI KRIVIČNI PREDMETI\\presuda...</td>\n",
       "    </tr>\n",
       "    <tr>\n",
       "      <th>2</th>\n",
       "      <td>311</td>\n",
       "      <td>b.“ doo m. b., a u odsustvu ovlašćenog predsta...</td>\n",
       "      <td>1.0</td>\n",
       "      <td>data\\K - PRVOSTEPENI KRIVIČNI PREDMETI\\presuda...</td>\n",
       "    </tr>\n",
       "    <tr>\n",
       "      <th>3</th>\n",
       "      <td>312</td>\n",
       "      <td>i majke d., rođene š., rođenom … godine u k., ...</td>\n",
       "      <td>1.0</td>\n",
       "      <td>data\\K - PRVOSTEPENI KRIVIČNI PREDMETI\\presuda...</td>\n",
       "    </tr>\n",
       "    <tr>\n",
       "      <th>4</th>\n",
       "      <td>313</td>\n",
       "      <td>usled odustanka odt-a berane od optužbe, na os...</td>\n",
       "      <td>1.0</td>\n",
       "      <td>data\\K - PRVOSTEPENI KRIVIČNI PREDMETI\\presuda...</td>\n",
       "    </tr>\n",
       "    <tr>\n",
       "      <th>...</th>\n",
       "      <td>...</td>\n",
       "      <td>...</td>\n",
       "      <td>...</td>\n",
       "      <td>...</td>\n",
       "    </tr>\n",
       "    <tr>\n",
       "      <th>406</th>\n",
       "      <td>715</td>\n",
       "      <td>međutim, do povređivanja tjelesnog integriteta...</td>\n",
       "      <td>NaN</td>\n",
       "      <td>data\\K - PRVOSTEPENI KRIVIČNI PREDMETI\\presuda...</td>\n",
       "    </tr>\n",
       "    <tr>\n",
       "      <th>407</th>\n",
       "      <td>716</td>\n",
       "      <td>kod ovakvog utvrđenog činjeničnog stanja, sud ...</td>\n",
       "      <td>NaN</td>\n",
       "      <td>data\\K - PRVOSTEPENI KRIVIČNI PREDMETI\\presuda...</td>\n",
       "    </tr>\n",
       "    <tr>\n",
       "      <th>408</th>\n",
       "      <td>717</td>\n",
       "      <td>oslobodio od optužbe na osnovu čl363 st.1 tač3...</td>\n",
       "      <td>NaN</td>\n",
       "      <td>data\\K - PRVOSTEPENI KRIVIČNI PREDMETI\\presuda...</td>\n",
       "    </tr>\n",
       "    <tr>\n",
       "      <th>409</th>\n",
       "      <td>718</td>\n",
       "      <td>imovinsko pravnog zahtjeva za naknadu štete ni...</td>\n",
       "      <td>NaN</td>\n",
       "      <td>data\\K - PRVOSTEPENI KRIVIČNI PREDMETI\\presuda...</td>\n",
       "    </tr>\n",
       "    <tr>\n",
       "      <th>410</th>\n",
       "      <td>719</td>\n",
       "      <td>iz iznijetih razloga odlučeno je kao u izreci ...</td>\n",
       "      <td>NaN</td>\n",
       "      <td>data\\K - PRVOSTEPENI KRIVIČNI PREDMETI\\presuda...</td>\n",
       "    </tr>\n",
       "  </tbody>\n",
       "</table>\n",
       "<p>411 rows × 4 columns</p>\n",
       "</div>"
      ],
      "text/plain": [
       "     Column1                                           sentence  label  \\\n",
       "0        309  osnovni sud u beranama k.br75/11 u ime naroda ...    0.0   \n",
       "1        310  2011. godine, nakon održanog glavnog i javnog ...    0.0   \n",
       "2        311  b.“ doo m. b., a u odsustvu ovlašćenog predsta...    1.0   \n",
       "3        312  i majke d., rođene š., rođenom … godine u k., ...    1.0   \n",
       "4        313  usled odustanka odt-a berane od optužbe, na os...    1.0   \n",
       "..       ...                                                ...    ...   \n",
       "406      715  međutim, do povređivanja tjelesnog integriteta...    NaN   \n",
       "407      716  kod ovakvog utvrđenog činjeničnog stanja, sud ...    NaN   \n",
       "408      717  oslobodio od optužbe na osnovu čl363 st.1 tač3...    NaN   \n",
       "409      718  imovinsko pravnog zahtjeva za naknadu štete ni...    NaN   \n",
       "410      719  iz iznijetih razloga odlučeno je kao u izreci ...    NaN   \n",
       "\n",
       "                                              filename  \n",
       "0    data\\K - PRVOSTEPENI KRIVIČNI PREDMETI\\presuda...  \n",
       "1    data\\K - PRVOSTEPENI KRIVIČNI PREDMETI\\presuda...  \n",
       "2    data\\K - PRVOSTEPENI KRIVIČNI PREDMETI\\presuda...  \n",
       "3    data\\K - PRVOSTEPENI KRIVIČNI PREDMETI\\presuda...  \n",
       "4    data\\K - PRVOSTEPENI KRIVIČNI PREDMETI\\presuda...  \n",
       "..                                                 ...  \n",
       "406  data\\K - PRVOSTEPENI KRIVIČNI PREDMETI\\presuda...  \n",
       "407  data\\K - PRVOSTEPENI KRIVIČNI PREDMETI\\presuda...  \n",
       "408  data\\K - PRVOSTEPENI KRIVIČNI PREDMETI\\presuda...  \n",
       "409  data\\K - PRVOSTEPENI KRIVIČNI PREDMETI\\presuda...  \n",
       "410  data\\K - PRVOSTEPENI KRIVIČNI PREDMETI\\presuda...  \n",
       "\n",
       "[411 rows x 4 columns]"
      ]
     },
     "execution_count": 11,
     "metadata": {},
     "output_type": "execute_result"
    }
   ],
   "source": [
    "data_k5_df = pd.read_excel('recenice_k5.xlsx')\n",
    "data_k5_df"
   ]
  },
  {
   "cell_type": "code",
   "execution_count": 12,
   "id": "c032b6cc",
   "metadata": {},
   "outputs": [
    {
     "data": {
      "text/html": [
       "<div>\n",
       "<style scoped>\n",
       "    .dataframe tbody tr th:only-of-type {\n",
       "        vertical-align: middle;\n",
       "    }\n",
       "\n",
       "    .dataframe tbody tr th {\n",
       "        vertical-align: top;\n",
       "    }\n",
       "\n",
       "    .dataframe thead th {\n",
       "        text-align: right;\n",
       "    }\n",
       "</style>\n",
       "<table border=\"1\" class=\"dataframe\">\n",
       "  <thead>\n",
       "    <tr style=\"text-align: right;\">\n",
       "      <th></th>\n",
       "      <th>Column1</th>\n",
       "      <th>sentence</th>\n",
       "      <th>label</th>\n",
       "      <th>filename</th>\n",
       "    </tr>\n",
       "  </thead>\n",
       "  <tbody>\n",
       "    <tr>\n",
       "      <th>0</th>\n",
       "      <td>720</td>\n",
       "      <td>osnovni sud u beranama k.br116/11 u ime naroda...</td>\n",
       "      <td>NaN</td>\n",
       "      <td>data\\K - PRVOSTEPENI KRIVIČNI PREDMETI\\presuda...</td>\n",
       "    </tr>\n",
       "    <tr>\n",
       "      <th>1</th>\n",
       "      <td>721</td>\n",
       "      <td>05.2011. godine, p r e s u d u okrivljeni a. s...</td>\n",
       "      <td>NaN</td>\n",
       "      <td>data\\K - PRVOSTEPENI KRIVIČNI PREDMETI\\presuda...</td>\n",
       "    </tr>\n",
       "    <tr>\n",
       "      <th>2</th>\n",
       "      <td>722</td>\n",
       "      <td>k r i v j e : što : u periodu od 09.12.2009. g...</td>\n",
       "      <td>NaN</td>\n",
       "      <td>data\\K - PRVOSTEPENI KRIVIČNI PREDMETI\\presuda...</td>\n",
       "    </tr>\n",
       "    <tr>\n",
       "      <th>3</th>\n",
       "      <td>723</td>\n",
       "      <td>12.</td>\n",
       "      <td>NaN</td>\n",
       "      <td>data\\K - PRVOSTEPENI KRIVIČNI PREDMETI\\presuda...</td>\n",
       "    </tr>\n",
       "    <tr>\n",
       "      <th>4</th>\n",
       "      <td>724</td>\n",
       "      <td>2009. godine, što ukupno iznosi 780,00 eura, -...</td>\n",
       "      <td>NaN</td>\n",
       "      <td>data\\K - PRVOSTEPENI KRIVIČNI PREDMETI\\presuda...</td>\n",
       "    </tr>\n",
       "    <tr>\n",
       "      <th>...</th>\n",
       "      <td>...</td>\n",
       "      <td>...</td>\n",
       "      <td>...</td>\n",
       "      <td>...</td>\n",
       "    </tr>\n",
       "    <tr>\n",
       "      <th>1460</th>\n",
       "      <td>2180</td>\n",
       "      <td>zkp-a.</td>\n",
       "      <td>NaN</td>\n",
       "      <td>data\\K - PRVOSTEPENI KRIVIČNI PREDMETI\\presuda...</td>\n",
       "    </tr>\n",
       "    <tr>\n",
       "      <th>1461</th>\n",
       "      <td>2181</td>\n",
       "      <td>imovinsko pravnog zahtjeva za naknadu štete ni...</td>\n",
       "      <td>NaN</td>\n",
       "      <td>data\\K - PRVOSTEPENI KRIVIČNI PREDMETI\\presuda...</td>\n",
       "    </tr>\n",
       "    <tr>\n",
       "      <th>1462</th>\n",
       "      <td>2182</td>\n",
       "      <td>sa iznijetih razloga odlučeno je kao u izreci ...</td>\n",
       "      <td>NaN</td>\n",
       "      <td>data\\K - PRVOSTEPENI KRIVIČNI PREDMETI\\presuda...</td>\n",
       "    </tr>\n",
       "    <tr>\n",
       "      <th>1463</th>\n",
       "      <td>2183</td>\n",
       "      <td>osnovni sud u beranama, dana 07.05.</td>\n",
       "      <td>NaN</td>\n",
       "      <td>data\\K - PRVOSTEPENI KRIVIČNI PREDMETI\\presuda...</td>\n",
       "    </tr>\n",
       "    <tr>\n",
       "      <th>1464</th>\n",
       "      <td>2184</td>\n",
       "      <td>2011 godine predsjednik vijeća- sudija zapisni...</td>\n",
       "      <td>NaN</td>\n",
       "      <td>data\\K - PRVOSTEPENI KRIVIČNI PREDMETI\\presuda...</td>\n",
       "    </tr>\n",
       "  </tbody>\n",
       "</table>\n",
       "<p>1465 rows × 4 columns</p>\n",
       "</div>"
      ],
      "text/plain": [
       "      Column1                                           sentence  label  \\\n",
       "0         720  osnovni sud u beranama k.br116/11 u ime naroda...    NaN   \n",
       "1         721  05.2011. godine, p r e s u d u okrivljeni a. s...    NaN   \n",
       "2         722  k r i v j e : što : u periodu od 09.12.2009. g...    NaN   \n",
       "3         723                                                12.    NaN   \n",
       "4         724  2009. godine, što ukupno iznosi 780,00 eura, -...    NaN   \n",
       "...       ...                                                ...    ...   \n",
       "1460     2180                                             zkp-a.    NaN   \n",
       "1461     2181  imovinsko pravnog zahtjeva za naknadu štete ni...    NaN   \n",
       "1462     2182  sa iznijetih razloga odlučeno je kao u izreci ...    NaN   \n",
       "1463     2183                osnovni sud u beranama, dana 07.05.    NaN   \n",
       "1464     2184  2011 godine predsjednik vijeća- sudija zapisni...    NaN   \n",
       "\n",
       "                                               filename  \n",
       "0     data\\K - PRVOSTEPENI KRIVIČNI PREDMETI\\presuda...  \n",
       "1     data\\K - PRVOSTEPENI KRIVIČNI PREDMETI\\presuda...  \n",
       "2     data\\K - PRVOSTEPENI KRIVIČNI PREDMETI\\presuda...  \n",
       "3     data\\K - PRVOSTEPENI KRIVIČNI PREDMETI\\presuda...  \n",
       "4     data\\K - PRVOSTEPENI KRIVIČNI PREDMETI\\presuda...  \n",
       "...                                                 ...  \n",
       "1460  data\\K - PRVOSTEPENI KRIVIČNI PREDMETI\\presuda...  \n",
       "1461  data\\K - PRVOSTEPENI KRIVIČNI PREDMETI\\presuda...  \n",
       "1462  data\\K - PRVOSTEPENI KRIVIČNI PREDMETI\\presuda...  \n",
       "1463  data\\K - PRVOSTEPENI KRIVIČNI PREDMETI\\presuda...  \n",
       "1464  data\\K - PRVOSTEPENI KRIVIČNI PREDMETI\\presuda...  \n",
       "\n",
       "[1465 rows x 4 columns]"
      ]
     },
     "execution_count": 12,
     "metadata": {},
     "output_type": "execute_result"
    }
   ],
   "source": [
    "data_k25_df = pd.read_excel('recenice_k25.xlsx')\n",
    "data_k25_df"
   ]
  },
  {
   "cell_type": "code",
   "execution_count": 17,
   "id": "395dd097",
   "metadata": {},
   "outputs": [],
   "source": [
    "labeled = []\n",
    "unlabeled = []\n",
    "list_sentences = []\n",
    "for index, row in data_k5_df.iterrows():\n",
    "    if(math.isnan(row['label'])):\n",
    "        row['label'] = -1\n",
    "        unlabeled.append(row)\n",
    "    else:\n",
    "        row['label'] = int(row['label'])\n",
    "        labeled.append(row)\n",
    "    list_sentences.append(row['sentence'])"
   ]
  },
  {
   "cell_type": "code",
   "execution_count": 19,
   "id": "92d530f7",
   "metadata": {},
   "outputs": [],
   "source": [
    "for index, row in data_k25_df.iterrows():\n",
    "    row['label'] = -1\n",
    "    unlabeled.append(row)\n",
    "    list_sentences.append(row['sentence'])"
   ]
  },
  {
   "cell_type": "code",
   "execution_count": 21,
   "id": "b5815113",
   "metadata": {},
   "outputs": [
    {
     "data": {
      "text/plain": [
       "1876"
      ]
     },
     "execution_count": 21,
     "metadata": {},
     "output_type": "execute_result"
    }
   ],
   "source": [
    "len(list_sentences)"
   ]
  },
  {
   "cell_type": "code",
   "execution_count": 22,
   "id": "44124ae3",
   "metadata": {},
   "outputs": [
    {
     "data": {
      "text/html": [
       "<div>\n",
       "<style scoped>\n",
       "    .dataframe tbody tr th:only-of-type {\n",
       "        vertical-align: middle;\n",
       "    }\n",
       "\n",
       "    .dataframe tbody tr th {\n",
       "        vertical-align: top;\n",
       "    }\n",
       "\n",
       "    .dataframe thead th {\n",
       "        text-align: right;\n",
       "    }\n",
       "</style>\n",
       "<table border=\"1\" class=\"dataframe\">\n",
       "  <thead>\n",
       "    <tr style=\"text-align: right;\">\n",
       "      <th></th>\n",
       "      <th>sentence</th>\n",
       "      <th>label</th>\n",
       "      <th>filename</th>\n",
       "    </tr>\n",
       "  </thead>\n",
       "  <tbody>\n",
       "    <tr>\n",
       "      <th>0</th>\n",
       "      <td>osnovni sud u beranama k.br75/11 u ime naroda ...</td>\n",
       "      <td>0</td>\n",
       "      <td>data\\K - PRVOSTEPENI KRIVIČNI PREDMETI\\presuda...</td>\n",
       "    </tr>\n",
       "    <tr>\n",
       "      <th>1</th>\n",
       "      <td>2011. godine, nakon održanog glavnog i javnog ...</td>\n",
       "      <td>0</td>\n",
       "      <td>data\\K - PRVOSTEPENI KRIVIČNI PREDMETI\\presuda...</td>\n",
       "    </tr>\n",
       "    <tr>\n",
       "      <th>2</th>\n",
       "      <td>b.“ doo m. b., a u odsustvu ovlašćenog predsta...</td>\n",
       "      <td>1</td>\n",
       "      <td>data\\K - PRVOSTEPENI KRIVIČNI PREDMETI\\presuda...</td>\n",
       "    </tr>\n",
       "    <tr>\n",
       "      <th>3</th>\n",
       "      <td>i majke d., rođene š., rođenom … godine u k., ...</td>\n",
       "      <td>1</td>\n",
       "      <td>data\\K - PRVOSTEPENI KRIVIČNI PREDMETI\\presuda...</td>\n",
       "    </tr>\n",
       "    <tr>\n",
       "      <th>4</th>\n",
       "      <td>usled odustanka odt-a berane od optužbe, na os...</td>\n",
       "      <td>1</td>\n",
       "      <td>data\\K - PRVOSTEPENI KRIVIČNI PREDMETI\\presuda...</td>\n",
       "    </tr>\n",
       "    <tr>\n",
       "      <th>...</th>\n",
       "      <td>...</td>\n",
       "      <td>...</td>\n",
       "      <td>...</td>\n",
       "    </tr>\n",
       "    <tr>\n",
       "      <th>189</th>\n",
       "      <td>sa izloženog odlučeno je kao u izreci presude.</td>\n",
       "      <td>0</td>\n",
       "      <td>data\\K - PRVOSTEPENI KRIVIČNI PREDMETI\\presuda...</td>\n",
       "    </tr>\n",
       "    <tr>\n",
       "      <th>190</th>\n",
       "      <td>osnovni sud u beranama dana 25.</td>\n",
       "      <td>0</td>\n",
       "      <td>data\\K - PRVOSTEPENI KRIVIČNI PREDMETI\\presuda...</td>\n",
       "    </tr>\n",
       "    <tr>\n",
       "      <th>191</th>\n",
       "      <td>05.</td>\n",
       "      <td>0</td>\n",
       "      <td>data\\K - PRVOSTEPENI KRIVIČNI PREDMETI\\presuda...</td>\n",
       "    </tr>\n",
       "    <tr>\n",
       "      <th>192</th>\n",
       "      <td>2011.godine.</td>\n",
       "      <td>0</td>\n",
       "      <td>data\\K - PRVOSTEPENI KRIVIČNI PREDMETI\\presuda...</td>\n",
       "    </tr>\n",
       "    <tr>\n",
       "      <th>193</th>\n",
       "      <td>zapisničar, s u d i j a, danojle milošević ana...</td>\n",
       "      <td>0</td>\n",
       "      <td>data\\K - PRVOSTEPENI KRIVIČNI PREDMETI\\presuda...</td>\n",
       "    </tr>\n",
       "  </tbody>\n",
       "</table>\n",
       "<p>194 rows × 3 columns</p>\n",
       "</div>"
      ],
      "text/plain": [
       "                                              sentence label  \\\n",
       "0    osnovni sud u beranama k.br75/11 u ime naroda ...     0   \n",
       "1    2011. godine, nakon održanog glavnog i javnog ...     0   \n",
       "2    b.“ doo m. b., a u odsustvu ovlašćenog predsta...     1   \n",
       "3    i majke d., rođene š., rođenom … godine u k., ...     1   \n",
       "4    usled odustanka odt-a berane od optužbe, na os...     1   \n",
       "..                                                 ...   ...   \n",
       "189     sa izloženog odlučeno je kao u izreci presude.     0   \n",
       "190                    osnovni sud u beranama dana 25.     0   \n",
       "191                                                05.     0   \n",
       "192                                       2011.godine.     0   \n",
       "193  zapisničar, s u d i j a, danojle milošević ana...     0   \n",
       "\n",
       "                                              filename  \n",
       "0    data\\K - PRVOSTEPENI KRIVIČNI PREDMETI\\presuda...  \n",
       "1    data\\K - PRVOSTEPENI KRIVIČNI PREDMETI\\presuda...  \n",
       "2    data\\K - PRVOSTEPENI KRIVIČNI PREDMETI\\presuda...  \n",
       "3    data\\K - PRVOSTEPENI KRIVIČNI PREDMETI\\presuda...  \n",
       "4    data\\K - PRVOSTEPENI KRIVIČNI PREDMETI\\presuda...  \n",
       "..                                                 ...  \n",
       "189  data\\K - PRVOSTEPENI KRIVIČNI PREDMETI\\presuda...  \n",
       "190  data\\K - PRVOSTEPENI KRIVIČNI PREDMETI\\presuda...  \n",
       "191  data\\K - PRVOSTEPENI KRIVIČNI PREDMETI\\presuda...  \n",
       "192  data\\K - PRVOSTEPENI KRIVIČNI PREDMETI\\presuda...  \n",
       "193  data\\K - PRVOSTEPENI KRIVIČNI PREDMETI\\presuda...  \n",
       "\n",
       "[194 rows x 3 columns]"
      ]
     },
     "execution_count": 22,
     "metadata": {},
     "output_type": "execute_result"
    }
   ],
   "source": [
    "labeled_array = np.array(labeled)\n",
    "labeled_df = pd.DataFrame(labeled_array, columns = ['0', 'sentence', 'label', 'filename'])\n",
    "labeled_df = labeled_df.drop(columns = ['0'])\n",
    "labeled_df"
   ]
  },
  {
   "cell_type": "code",
   "execution_count": 23,
   "id": "ef306d13",
   "metadata": {},
   "outputs": [
    {
     "data": {
      "text/html": [
       "<div>\n",
       "<style scoped>\n",
       "    .dataframe tbody tr th:only-of-type {\n",
       "        vertical-align: middle;\n",
       "    }\n",
       "\n",
       "    .dataframe tbody tr th {\n",
       "        vertical-align: top;\n",
       "    }\n",
       "\n",
       "    .dataframe thead th {\n",
       "        text-align: right;\n",
       "    }\n",
       "</style>\n",
       "<table border=\"1\" class=\"dataframe\">\n",
       "  <thead>\n",
       "    <tr style=\"text-align: right;\">\n",
       "      <th></th>\n",
       "      <th>sentence</th>\n",
       "      <th>label</th>\n",
       "      <th>filename</th>\n",
       "    </tr>\n",
       "  </thead>\n",
       "  <tbody>\n",
       "    <tr>\n",
       "      <th>0</th>\n",
       "      <td>osnovni sud u beranama k.br87/11 u ime naroda ...</td>\n",
       "      <td>-1</td>\n",
       "      <td>data\\K - PRVOSTEPENI KRIVIČNI PREDMETI\\presuda...</td>\n",
       "    </tr>\n",
       "    <tr>\n",
       "      <th>1</th>\n",
       "      <td>u vezi st.1.kzcg, po optužnici osnovnog državn...</td>\n",
       "      <td>-1</td>\n",
       "      <td>data\\K - PRVOSTEPENI KRIVIČNI PREDMETI\\presuda...</td>\n",
       "    </tr>\n",
       "    <tr>\n",
       "      <th>2</th>\n",
       "      <td>k r i v j e : što je : novembra mjeseca 2010 g...</td>\n",
       "      <td>-1</td>\n",
       "      <td>data\\K - PRVOSTEPENI KRIVIČNI PREDMETI\\presuda...</td>\n",
       "    </tr>\n",
       "    <tr>\n",
       "      <th>3</th>\n",
       "      <td>čime je izvršio krivično djelo pronevjera iz č...</td>\n",
       "      <td>-1</td>\n",
       "      <td>data\\K - PRVOSTEPENI KRIVIČNI PREDMETI\\presuda...</td>\n",
       "    </tr>\n",
       "    <tr>\n",
       "      <th>4</th>\n",
       "      <td>pa mu sud za izvršeno krivično djelo na osnovu...</td>\n",
       "      <td>-1</td>\n",
       "      <td>data\\K - PRVOSTEPENI KRIVIČNI PREDMETI\\presuda...</td>\n",
       "    </tr>\n",
       "    <tr>\n",
       "      <th>...</th>\n",
       "      <td>...</td>\n",
       "      <td>...</td>\n",
       "      <td>...</td>\n",
       "    </tr>\n",
       "    <tr>\n",
       "      <th>1677</th>\n",
       "      <td>zkp-a.</td>\n",
       "      <td>-1</td>\n",
       "      <td>data\\K - PRVOSTEPENI KRIVIČNI PREDMETI\\presuda...</td>\n",
       "    </tr>\n",
       "    <tr>\n",
       "      <th>1678</th>\n",
       "      <td>imovinsko pravnog zahtjeva za naknadu štete ni...</td>\n",
       "      <td>-1</td>\n",
       "      <td>data\\K - PRVOSTEPENI KRIVIČNI PREDMETI\\presuda...</td>\n",
       "    </tr>\n",
       "    <tr>\n",
       "      <th>1679</th>\n",
       "      <td>sa iznijetih razloga odlučeno je kao u izreci ...</td>\n",
       "      <td>-1</td>\n",
       "      <td>data\\K - PRVOSTEPENI KRIVIČNI PREDMETI\\presuda...</td>\n",
       "    </tr>\n",
       "    <tr>\n",
       "      <th>1680</th>\n",
       "      <td>osnovni sud u beranama, dana 07.05.</td>\n",
       "      <td>-1</td>\n",
       "      <td>data\\K - PRVOSTEPENI KRIVIČNI PREDMETI\\presuda...</td>\n",
       "    </tr>\n",
       "    <tr>\n",
       "      <th>1681</th>\n",
       "      <td>2011 godine predsjednik vijeća- sudija zapisni...</td>\n",
       "      <td>-1</td>\n",
       "      <td>data\\K - PRVOSTEPENI KRIVIČNI PREDMETI\\presuda...</td>\n",
       "    </tr>\n",
       "  </tbody>\n",
       "</table>\n",
       "<p>1682 rows × 3 columns</p>\n",
       "</div>"
      ],
      "text/plain": [
       "                                               sentence label  \\\n",
       "0     osnovni sud u beranama k.br87/11 u ime naroda ...    -1   \n",
       "1     u vezi st.1.kzcg, po optužnici osnovnog državn...    -1   \n",
       "2     k r i v j e : što je : novembra mjeseca 2010 g...    -1   \n",
       "3     čime je izvršio krivično djelo pronevjera iz č...    -1   \n",
       "4     pa mu sud za izvršeno krivično djelo na osnovu...    -1   \n",
       "...                                                 ...   ...   \n",
       "1677                                             zkp-a.    -1   \n",
       "1678  imovinsko pravnog zahtjeva za naknadu štete ni...    -1   \n",
       "1679  sa iznijetih razloga odlučeno je kao u izreci ...    -1   \n",
       "1680                osnovni sud u beranama, dana 07.05.    -1   \n",
       "1681  2011 godine predsjednik vijeća- sudija zapisni...    -1   \n",
       "\n",
       "                                               filename  \n",
       "0     data\\K - PRVOSTEPENI KRIVIČNI PREDMETI\\presuda...  \n",
       "1     data\\K - PRVOSTEPENI KRIVIČNI PREDMETI\\presuda...  \n",
       "2     data\\K - PRVOSTEPENI KRIVIČNI PREDMETI\\presuda...  \n",
       "3     data\\K - PRVOSTEPENI KRIVIČNI PREDMETI\\presuda...  \n",
       "4     data\\K - PRVOSTEPENI KRIVIČNI PREDMETI\\presuda...  \n",
       "...                                                 ...  \n",
       "1677  data\\K - PRVOSTEPENI KRIVIČNI PREDMETI\\presuda...  \n",
       "1678  data\\K - PRVOSTEPENI KRIVIČNI PREDMETI\\presuda...  \n",
       "1679  data\\K - PRVOSTEPENI KRIVIČNI PREDMETI\\presuda...  \n",
       "1680  data\\K - PRVOSTEPENI KRIVIČNI PREDMETI\\presuda...  \n",
       "1681  data\\K - PRVOSTEPENI KRIVIČNI PREDMETI\\presuda...  \n",
       "\n",
       "[1682 rows x 3 columns]"
      ]
     },
     "execution_count": 23,
     "metadata": {},
     "output_type": "execute_result"
    }
   ],
   "source": [
    "unlabeled_array = np.array(unlabeled)\n",
    "unlabeled_df = pd.DataFrame(unlabeled_array, columns = ['0', 'sentence', 'label', 'filename'])\n",
    "unlabeled_df = unlabeled_df.drop(columns = ['0'])\n",
    "unlabeled_df"
   ]
  },
  {
   "cell_type": "code",
   "execution_count": 24,
   "id": "5f26f49d",
   "metadata": {},
   "outputs": [],
   "source": [
    "from nltk.tokenize import sent_tokenize, word_tokenize, WhitespaceTokenizer\n",
    "import gensim\n",
    "from gensim.models import Word2Vec, KeyedVectors\n",
    "from keras.preprocessing.text import Tokenizer"
   ]
  },
  {
   "cell_type": "code",
   "execution_count": 25,
   "id": "0e08185d",
   "metadata": {},
   "outputs": [],
   "source": [
    "from keras.models import Sequential\n",
    "from keras.layers import *\n",
    "from keras.preprocessing.sequence import pad_sequences\n",
    "from keras.preprocessing.text import Tokenizer\n",
    "from keras.initializers import Constant\n",
    "import gensim\n",
    "import sys\n",
    "import numpy as np\n",
    "import pandas as pd\n",
    "import string\n",
    "import logging\n",
    "import random\n",
    "import keras\n",
    "import matplotlib.pyplot as plt"
   ]
  },
  {
   "cell_type": "code",
   "execution_count": 26,
   "id": "aa61b50d",
   "metadata": {},
   "outputs": [],
   "source": [
    "# def get_w2v(list_sentences):\n",
    "list_sent_tkn = []\n",
    "for sent in list_sentences:\n",
    "    list_sent_tkn.append(word_tokenize(sent))\n",
    "w2v_model = Word2Vec(list_sent_tkn, min_count=1, vector_size= 50, workers=3, window=3)"
   ]
  },
  {
   "cell_type": "code",
   "execution_count": 27,
   "id": "c15c826d",
   "metadata": {},
   "outputs": [
    {
     "name": "stdout",
     "output_type": "stream",
     "text": [
      "Words:  7401\n"
     ]
    }
   ],
   "source": [
    "words = list(w2v_model.wv.index_to_key)\n",
    "print(\"Words: \", len(words))"
   ]
  },
  {
   "cell_type": "code",
   "execution_count": 28,
   "id": "b45eeaac",
   "metadata": {},
   "outputs": [
    {
     "name": "stdout",
     "output_type": "stream",
     "text": [
      "The no of key-value pairs :  7401\n"
     ]
    }
   ],
   "source": [
    "word_vec_dict={}\n",
    "for word in words:\n",
    "    word_vec_dict[word]=w2v_model.wv.get_vector(word)\n",
    "print(\"The no of key-value pairs : \",len(word_vec_dict)) # should come equal to vocab size"
   ]
  },
  {
   "cell_type": "code",
   "execution_count": 30,
   "id": "2a67822d",
   "metadata": {},
   "outputs": [],
   "source": [
    "maxi=-1\n",
    "for i,rev in enumerate(list_sentences):\n",
    "    tokens = rev.split()\n",
    "    if(len(tokens)>maxi):\n",
    "        maxi=len(tokens)"
   ]
  },
  {
   "cell_type": "code",
   "execution_count": 31,
   "id": "ca80488b",
   "metadata": {},
   "outputs": [
    {
     "data": {
      "text/plain": [
       "378"
      ]
     },
     "execution_count": 31,
     "metadata": {},
     "output_type": "execute_result"
    }
   ],
   "source": [
    "maxi"
   ]
  },
  {
   "cell_type": "code",
   "execution_count": 32,
   "id": "72455db6",
   "metadata": {},
   "outputs": [],
   "source": [
    "w2v_weights = w2v_model.wv.vectors\n",
    "vocab_size, embedding_size = w2v_weights.shape\n",
    "MAX_SEQUENCE_LENGTH = maxi+1"
   ]
  },
  {
   "cell_type": "code",
   "execution_count": 33,
   "id": "67471776",
   "metadata": {},
   "outputs": [],
   "source": [
    "vocab_size += 1"
   ]
  },
  {
   "cell_type": "code",
   "execution_count": 34,
   "id": "089feca3",
   "metadata": {},
   "outputs": [
    {
     "data": {
      "text/plain": [
       "7402"
      ]
     },
     "execution_count": 34,
     "metadata": {},
     "output_type": "execute_result"
    }
   ],
   "source": [
    "vocab_size"
   ]
  },
  {
   "cell_type": "code",
   "execution_count": 35,
   "id": "11fd1d3f",
   "metadata": {},
   "outputs": [],
   "source": [
    "tok = Tokenizer(filters='')\n",
    "tok.fit_on_texts(list_sentences)\n",
    "vocab_size1 = len(tok.word_index) + 1\n",
    "encd_rev_labeled = tok.texts_to_sequences(labeled_df['sentence'])\n",
    "encd_rev_unlabeled = tok.texts_to_sequences(unlabeled_df['sentence'])"
   ]
  },
  {
   "cell_type": "code",
   "execution_count": 36,
   "id": "b0d58537",
   "metadata": {},
   "outputs": [
    {
     "name": "stdout",
     "output_type": "stream",
     "text": [
      "9167\n"
     ]
    }
   ],
   "source": [
    "print(vocab_size1)"
   ]
  },
  {
   "cell_type": "code",
   "execution_count": 37,
   "id": "57d998e8",
   "metadata": {},
   "outputs": [
    {
     "name": "stdout",
     "output_type": "stream",
     "text": [
      "[[ 123   14    2 ...    0    0    0]\n",
      " [2041   19   39 ...    0    0    0]\n",
      " [1524  995   34 ...    0    0    0]\n",
      " ...\n",
      " [3389    0    0 ...    0    0    0]\n",
      " [3390    0    0 ...    0    0    0]\n",
      " [ 754  128    2 ...    0    0    0]]\n",
      "(194, 379)\n"
     ]
    }
   ],
   "source": [
    "pad_rev_labeled = pad_sequences(encd_rev_labeled, maxlen=MAX_SEQUENCE_LENGTH, padding='post')\n",
    "print(pad_rev_labeled)\n",
    "print(pad_rev_labeled.shape)"
   ]
  },
  {
   "cell_type": "code",
   "execution_count": 38,
   "id": "143b5917",
   "metadata": {},
   "outputs": [
    {
     "name": "stdout",
     "output_type": "stream",
     "text": [
      "[[ 123   14    2 ...    0    0    0]\n",
      " [   2  115 1580 ...    0    0    0]\n",
      " [ 703  124    4 ...    0    0    0]\n",
      " ...\n",
      " [  13  872  196 ...    0    0    0]\n",
      " [ 123   14    2 ...    0    0    0]\n",
      " [ 774   45  755 ...    0    0    0]]\n",
      "(1682, 379)\n"
     ]
    }
   ],
   "source": [
    "pad_rev_unlabeled = pad_sequences(encd_rev_unlabeled, maxlen=MAX_SEQUENCE_LENGTH, padding='post')\n",
    "print(pad_rev_unlabeled)\n",
    "print(pad_rev_unlabeled.shape)"
   ]
  },
  {
   "cell_type": "code",
   "execution_count": 39,
   "id": "733aff04",
   "metadata": {},
   "outputs": [],
   "source": [
    "# now creating the embedding matrix\n",
    "embed_matrix = np.zeros(shape=(vocab_size1, embedding_size))\n",
    "# print(len(tok.word_index.items()))\n",
    "for word,i in tok.word_index.items():\n",
    "    embed_vector = word_vec_dict.get(word)\n",
    "    if embed_vector is not None:  # word is in the vocabulary learned by the w2v model\n",
    "        embed_matrix[i] = embed_vector\n",
    "        # if word is not found then embed_vector corressponding to that vector will stay zero."
   ]
  },
  {
   "cell_type": "code",
   "execution_count": 40,
   "id": "aec93398",
   "metadata": {},
   "outputs": [],
   "source": [
    "from sklearn.model_selection import train_test_split\n",
    "from sklearn.preprocessing import LabelEncoder\n",
    "from tensorflow.keras.utils import to_categorical"
   ]
  },
  {
   "cell_type": "code",
   "execution_count": 41,
   "id": "7ea494c0",
   "metadata": {},
   "outputs": [
    {
     "name": "stdout",
     "output_type": "stream",
     "text": [
      "(155, 379)\n",
      "(155, 2)\n",
      "(39, 379)\n",
      "(39, 2)\n",
      "(1682, 379)\n"
     ]
    }
   ],
   "source": [
    "train_size=0.8\n",
    "\n",
    "y_labeled = np.array(labeled_df['label'].tolist())\n",
    "\n",
    "leinst = LabelEncoder()\n",
    "yinst = leinst.fit_transform(y_labeled)\n",
    "\n",
    "ycat_labeled = to_categorical(labeled_df['label'])  # one hot target as required by NN\n",
    "X_train, X_validation, y_train, y_validation = train_test_split(pad_rev_labeled, ycat_labeled, test_size=0.2, shuffle=True, random_state=42)\n",
    "\n",
    "X_test = pad_rev_unlabeled\n",
    "\n",
    "\n",
    "print(X_train.shape), print(y_train.shape)\n",
    "print(X_validation.shape), print(y_validation.shape)\n",
    "print(X_test.shape)"
   ]
  },
  {
   "cell_type": "code",
   "execution_count": 42,
   "id": "b8819a86",
   "metadata": {},
   "outputs": [
    {
     "name": "stdout",
     "output_type": "stream",
     "text": [
      "2\n",
      "[0 1]\n"
     ]
    }
   ],
   "source": [
    "num_classes = len(leinst.classes_)\n",
    "print(num_classes)\n",
    "print(leinst.classes_)"
   ]
  },
  {
   "cell_type": "code",
   "execution_count": 43,
   "id": "5fcb075b",
   "metadata": {},
   "outputs": [
    {
     "name": "stdout",
     "output_type": "stream",
     "text": [
      "(7401, 50)\n"
     ]
    }
   ],
   "source": [
    "print(w2v_weights.shape)"
   ]
  },
  {
   "cell_type": "code",
   "execution_count": 44,
   "id": "68ae4939",
   "metadata": {},
   "outputs": [
    {
     "name": "stdout",
     "output_type": "stream",
     "text": [
      "Epoch 1/100\n",
      "5/5 [==============================] - 3s 242ms/step - loss: 0.6243 - accuracy: 0.6710 - val_loss: 0.5369 - val_accuracy: 0.7692\n",
      "Epoch 2/100\n",
      "5/5 [==============================] - 1s 104ms/step - loss: 0.6013 - accuracy: 0.6710 - val_loss: 0.5057 - val_accuracy: 0.7692\n",
      "Epoch 3/100\n",
      "5/5 [==============================] - 0s 101ms/step - loss: 0.5908 - accuracy: 0.6839 - val_loss: 0.4991 - val_accuracy: 0.7949\n",
      "Epoch 4/100\n",
      "5/5 [==============================] - 0s 100ms/step - loss: 0.5853 - accuracy: 0.6903 - val_loss: 0.4946 - val_accuracy: 0.7949\n",
      "Epoch 5/100\n",
      "5/5 [==============================] - 0s 100ms/step - loss: 0.5781 - accuracy: 0.6903 - val_loss: 0.4945 - val_accuracy: 0.7949\n",
      "Epoch 6/100\n",
      "5/5 [==============================] - 0s 104ms/step - loss: 0.5691 - accuracy: 0.6968 - val_loss: 0.5003 - val_accuracy: 0.8205\n",
      "Epoch 7/100\n",
      "5/5 [==============================] - 0s 100ms/step - loss: 0.5580 - accuracy: 0.6968 - val_loss: 0.4925 - val_accuracy: 0.8205\n",
      "Epoch 8/100\n",
      "5/5 [==============================] - 0s 100ms/step - loss: 0.5398 - accuracy: 0.7097 - val_loss: 0.4814 - val_accuracy: 0.8462\n",
      "Epoch 9/100\n",
      "5/5 [==============================] - 0s 100ms/step - loss: 0.5095 - accuracy: 0.7419 - val_loss: 0.4757 - val_accuracy: 0.8205\n",
      "Epoch 10/100\n",
      "5/5 [==============================] - 0s 101ms/step - loss: 0.4652 - accuracy: 0.8065 - val_loss: 0.4361 - val_accuracy: 0.8462\n",
      "Epoch 11/100\n",
      "5/5 [==============================] - 0s 104ms/step - loss: 0.4118 - accuracy: 0.8516 - val_loss: 0.4677 - val_accuracy: 0.7692\n",
      "Epoch 12/100\n",
      "5/5 [==============================] - 0s 100ms/step - loss: 0.3474 - accuracy: 0.9355 - val_loss: 0.4207 - val_accuracy: 0.8462\n",
      "Epoch 13/100\n",
      "5/5 [==============================] - 0s 100ms/step - loss: 0.3074 - accuracy: 0.9032 - val_loss: 0.5504 - val_accuracy: 0.6667\n",
      "Epoch 14/100\n",
      "5/5 [==============================] - 0s 100ms/step - loss: 0.2621 - accuracy: 0.9419 - val_loss: 0.4140 - val_accuracy: 0.7692\n",
      "Epoch 15/100\n",
      "5/5 [==============================] - 1s 104ms/step - loss: 0.2405 - accuracy: 0.9419 - val_loss: 0.5119 - val_accuracy: 0.6667\n",
      "Epoch 16/100\n",
      "5/5 [==============================] - 0s 100ms/step - loss: 0.2128 - accuracy: 0.9613 - val_loss: 0.4409 - val_accuracy: 0.7949\n",
      "Epoch 17/100\n",
      "5/5 [==============================] - 1s 104ms/step - loss: 0.2025 - accuracy: 0.9548 - val_loss: 0.4701 - val_accuracy: 0.7436\n",
      "Epoch 18/100\n",
      "5/5 [==============================] - 1s 107ms/step - loss: 0.1834 - accuracy: 0.9613 - val_loss: 0.4274 - val_accuracy: 0.7949\n",
      "Epoch 19/100\n",
      "5/5 [==============================] - 1s 111ms/step - loss: 0.1657 - accuracy: 0.9548 - val_loss: 0.4371 - val_accuracy: 0.7692\n",
      "Epoch 20/100\n",
      "5/5 [==============================] - 0s 100ms/step - loss: 0.1489 - accuracy: 0.9677 - val_loss: 0.4767 - val_accuracy: 0.7179\n",
      "Epoch 21/100\n",
      "5/5 [==============================] - 1s 106ms/step - loss: 0.1308 - accuracy: 0.9677 - val_loss: 0.4312 - val_accuracy: 0.7949\n",
      "Epoch 22/100\n",
      "5/5 [==============================] - 1s 101ms/step - loss: 0.1171 - accuracy: 0.9742 - val_loss: 0.4325 - val_accuracy: 0.8205\n",
      "Epoch 23/100\n",
      "5/5 [==============================] - 0s 100ms/step - loss: 0.1104 - accuracy: 0.9742 - val_loss: 0.4595 - val_accuracy: 0.7436\n",
      "Epoch 24/100\n",
      "5/5 [==============================] - 1s 103ms/step - loss: 0.0869 - accuracy: 0.9871 - val_loss: 0.4613 - val_accuracy: 0.7436\n",
      "Epoch 25/100\n",
      "5/5 [==============================] - 1s 105ms/step - loss: 0.0730 - accuracy: 0.9806 - val_loss: 0.4436 - val_accuracy: 0.7949\n",
      "Epoch 26/100\n",
      "5/5 [==============================] - 0s 104ms/step - loss: 0.0901 - accuracy: 0.9806 - val_loss: 0.5368 - val_accuracy: 0.7436\n",
      "Epoch 27/100\n",
      "5/5 [==============================] - 1s 105ms/step - loss: 0.0616 - accuracy: 0.9871 - val_loss: 0.5367 - val_accuracy: 0.6923\n",
      "Epoch 28/100\n",
      "5/5 [==============================] - 1s 107ms/step - loss: 0.0564 - accuracy: 0.9871 - val_loss: 0.5131 - val_accuracy: 0.7179\n",
      "Epoch 29/100\n",
      "5/5 [==============================] - 0s 100ms/step - loss: 0.0842 - accuracy: 0.9613 - val_loss: 0.4922 - val_accuracy: 0.7692\n",
      "Epoch 30/100\n",
      "5/5 [==============================] - 1s 104ms/step - loss: 0.0758 - accuracy: 0.9806 - val_loss: 0.4742 - val_accuracy: 0.7949\n",
      "Epoch 31/100\n",
      "5/5 [==============================] - 0s 104ms/step - loss: 0.0643 - accuracy: 0.9871 - val_loss: 0.6152 - val_accuracy: 0.7436\n",
      "Epoch 32/100\n",
      "5/5 [==============================] - 0s 104ms/step - loss: 0.0672 - accuracy: 0.9935 - val_loss: 0.4844 - val_accuracy: 0.7436\n",
      "Epoch 33/100\n",
      "5/5 [==============================] - 1s 107ms/step - loss: 0.0501 - accuracy: 1.0000 - val_loss: 0.4646 - val_accuracy: 0.7692\n",
      "Epoch 34/100\n",
      "5/5 [==============================] - 1s 110ms/step - loss: 0.0486 - accuracy: 0.9935 - val_loss: 0.4603 - val_accuracy: 0.7949\n",
      "Epoch 35/100\n",
      "5/5 [==============================] - 0s 104ms/step - loss: 0.0444 - accuracy: 0.9935 - val_loss: 0.4766 - val_accuracy: 0.7949\n",
      "Epoch 36/100\n",
      "5/5 [==============================] - 1s 104ms/step - loss: 0.0416 - accuracy: 0.9935 - val_loss: 0.5076 - val_accuracy: 0.7436\n",
      "Epoch 37/100\n",
      "5/5 [==============================] - 1s 104ms/step - loss: 0.0372 - accuracy: 0.9935 - val_loss: 0.5190 - val_accuracy: 0.7692\n",
      "Epoch 38/100\n",
      "5/5 [==============================] - 1s 110ms/step - loss: 0.0347 - accuracy: 0.9935 - val_loss: 0.5198 - val_accuracy: 0.7692\n",
      "Epoch 39/100\n",
      "5/5 [==============================] - 1s 110ms/step - loss: 0.0332 - accuracy: 0.9935 - val_loss: 0.5387 - val_accuracy: 0.7436\n",
      "Epoch 40/100\n",
      "5/5 [==============================] - 1s 115ms/step - loss: 0.0310 - accuracy: 1.0000 - val_loss: 0.5336 - val_accuracy: 0.7692\n",
      "Epoch 41/100\n",
      "5/5 [==============================] - 1s 109ms/step - loss: 0.0292 - accuracy: 0.9935 - val_loss: 0.5460 - val_accuracy: 0.7692\n",
      "Epoch 42/100\n",
      "5/5 [==============================] - 1s 109ms/step - loss: 0.0289 - accuracy: 1.0000 - val_loss: 0.5762 - val_accuracy: 0.7436\n",
      "Epoch 43/100\n",
      "5/5 [==============================] - 1s 114ms/step - loss: 0.0288 - accuracy: 0.9935 - val_loss: 0.5587 - val_accuracy: 0.7692\n",
      "Epoch 44/100\n",
      "5/5 [==============================] - 1s 104ms/step - loss: 0.0262 - accuracy: 0.9935 - val_loss: 0.6007 - val_accuracy: 0.7436\n",
      "Epoch 45/100\n",
      "5/5 [==============================] - 1s 109ms/step - loss: 0.0242 - accuracy: 1.0000 - val_loss: 0.5953 - val_accuracy: 0.7436\n",
      "Epoch 46/100\n",
      "5/5 [==============================] - 1s 110ms/step - loss: 0.0230 - accuracy: 1.0000 - val_loss: 0.5895 - val_accuracy: 0.7436\n",
      "Epoch 47/100\n",
      "5/5 [==============================] - 1s 115ms/step - loss: 0.0241 - accuracy: 0.9935 - val_loss: 0.5868 - val_accuracy: 0.7436\n",
      "Epoch 48/100\n",
      "5/5 [==============================] - 1s 117ms/step - loss: 0.0226 - accuracy: 1.0000 - val_loss: 0.6365 - val_accuracy: 0.7179\n",
      "Epoch 49/100\n",
      "5/5 [==============================] - 1s 133ms/step - loss: 0.0225 - accuracy: 0.9935 - val_loss: 0.6130 - val_accuracy: 0.7436\n",
      "Epoch 50/100\n",
      "5/5 [==============================] - 1s 141ms/step - loss: 0.0214 - accuracy: 0.9935 - val_loss: 0.6151 - val_accuracy: 0.7436\n",
      "Epoch 51/100\n",
      "5/5 [==============================] - 1s 145ms/step - loss: 0.0242 - accuracy: 0.9935 - val_loss: 0.5979 - val_accuracy: 0.7949\n",
      "Epoch 52/100\n",
      "5/5 [==============================] - 1s 149ms/step - loss: 0.0163 - accuracy: 1.0000 - val_loss: 0.6908 - val_accuracy: 0.6923\n",
      "Epoch 53/100\n",
      "5/5 [==============================] - 1s 127ms/step - loss: 0.0242 - accuracy: 0.9935 - val_loss: 0.6941 - val_accuracy: 0.6923\n",
      "Epoch 54/100\n",
      "5/5 [==============================] - 1s 137ms/step - loss: 0.0189 - accuracy: 0.9935 - val_loss: 0.5990 - val_accuracy: 0.8205\n",
      "Epoch 55/100\n",
      "5/5 [==============================] - 1s 137ms/step - loss: 0.0234 - accuracy: 0.9935 - val_loss: 0.6098 - val_accuracy: 0.7436\n",
      "Epoch 56/100\n",
      "5/5 [==============================] - 1s 133ms/step - loss: 0.0170 - accuracy: 1.0000 - val_loss: 0.6948 - val_accuracy: 0.7179\n",
      "Epoch 57/100\n",
      "5/5 [==============================] - 1s 156ms/step - loss: 0.0201 - accuracy: 0.9935 - val_loss: 0.7196 - val_accuracy: 0.7436\n",
      "Epoch 58/100\n",
      "5/5 [==============================] - 1s 134ms/step - loss: 0.0184 - accuracy: 0.9935 - val_loss: 0.6865 - val_accuracy: 0.7179\n"
     ]
    },
    {
     "name": "stdout",
     "output_type": "stream",
     "text": [
      "Epoch 59/100\n",
      "5/5 [==============================] - 1s 140ms/step - loss: 0.0187 - accuracy: 0.9935 - val_loss: 0.6381 - val_accuracy: 0.7436\n",
      "Epoch 60/100\n",
      "5/5 [==============================] - 1s 107ms/step - loss: 0.0160 - accuracy: 1.0000 - val_loss: 0.6629 - val_accuracy: 0.7436\n",
      "Epoch 61/100\n",
      "5/5 [==============================] - 1s 132ms/step - loss: 0.0154 - accuracy: 1.0000 - val_loss: 0.6990 - val_accuracy: 0.7179\n",
      "Epoch 62/100\n",
      "5/5 [==============================] - 1s 120ms/step - loss: 0.0174 - accuracy: 0.9935 - val_loss: 0.7293 - val_accuracy: 0.6923\n",
      "Epoch 63/100\n",
      "5/5 [==============================] - 1s 116ms/step - loss: 0.0156 - accuracy: 0.9935 - val_loss: 0.6543 - val_accuracy: 0.7436\n",
      "Epoch 64/100\n",
      "5/5 [==============================] - 1s 110ms/step - loss: 0.0165 - accuracy: 0.9935 - val_loss: 0.6711 - val_accuracy: 0.7436\n",
      "Epoch 65/100\n",
      "5/5 [==============================] - 1s 127ms/step - loss: 0.0141 - accuracy: 1.0000 - val_loss: 0.7127 - val_accuracy: 0.7179\n",
      "Epoch 66/100\n",
      "5/5 [==============================] - 1s 143ms/step - loss: 0.0144 - accuracy: 0.9935 - val_loss: 0.7410 - val_accuracy: 0.6923\n",
      "Epoch 67/100\n",
      "5/5 [==============================] - 1s 141ms/step - loss: 0.0144 - accuracy: 1.0000 - val_loss: 0.7011 - val_accuracy: 0.7436\n",
      "Epoch 68/100\n",
      "5/5 [==============================] - 1s 112ms/step - loss: 0.0144 - accuracy: 0.9935 - val_loss: 0.7188 - val_accuracy: 0.7436\n",
      "Epoch 69/100\n",
      "5/5 [==============================] - 1s 114ms/step - loss: 0.0123 - accuracy: 1.0000 - val_loss: 0.7805 - val_accuracy: 0.6923\n",
      "Epoch 70/100\n",
      "5/5 [==============================] - 1s 134ms/step - loss: 0.0142 - accuracy: 0.9935 - val_loss: 0.7737 - val_accuracy: 0.6923\n",
      "Epoch 71/100\n",
      "5/5 [==============================] - 1s 146ms/step - loss: 0.0126 - accuracy: 1.0000 - val_loss: 0.7024 - val_accuracy: 0.7436\n",
      "Epoch 72/100\n",
      "5/5 [==============================] - 1s 133ms/step - loss: 0.0127 - accuracy: 0.9935 - val_loss: 0.7509 - val_accuracy: 0.7179\n",
      "Epoch 73/100\n",
      "5/5 [==============================] - 1s 119ms/step - loss: 0.0147 - accuracy: 0.9935 - val_loss: 0.7861 - val_accuracy: 0.6923\n",
      "Epoch 74/100\n",
      "5/5 [==============================] - 1s 126ms/step - loss: 0.0127 - accuracy: 1.0000 - val_loss: 0.7126 - val_accuracy: 0.7692\n",
      "Epoch 75/100\n",
      "5/5 [==============================] - 1s 156ms/step - loss: 0.0119 - accuracy: 0.9935 - val_loss: 0.7594 - val_accuracy: 0.7179\n",
      "Epoch 76/100\n",
      "5/5 [==============================] - 1s 115ms/step - loss: 0.0126 - accuracy: 0.9935 - val_loss: 0.7876 - val_accuracy: 0.6923\n",
      "Epoch 77/100\n",
      "5/5 [==============================] - 1s 106ms/step - loss: 0.0125 - accuracy: 1.0000 - val_loss: 0.7611 - val_accuracy: 0.7179\n",
      "Epoch 78/100\n",
      "5/5 [==============================] - 1s 115ms/step - loss: 0.0112 - accuracy: 1.0000 - val_loss: 0.7759 - val_accuracy: 0.7179\n",
      "Epoch 79/100\n",
      "5/5 [==============================] - 1s 109ms/step - loss: 0.0101 - accuracy: 1.0000 - val_loss: 0.7135 - val_accuracy: 0.7692\n",
      "Epoch 80/100\n",
      "5/5 [==============================] - 1s 108ms/step - loss: 0.0168 - accuracy: 0.9935 - val_loss: 0.7873 - val_accuracy: 0.7179\n",
      "Epoch 81/100\n",
      "5/5 [==============================] - 1s 117ms/step - loss: 0.0179 - accuracy: 0.9935 - val_loss: 0.8720 - val_accuracy: 0.7179\n",
      "Epoch 82/100\n",
      "5/5 [==============================] - 1s 108ms/step - loss: 0.0100 - accuracy: 1.0000 - val_loss: 0.8043 - val_accuracy: 0.7179\n",
      "Epoch 83/100\n",
      "5/5 [==============================] - 1s 105ms/step - loss: 0.0100 - accuracy: 1.0000 - val_loss: 0.7540 - val_accuracy: 0.7692\n",
      "Epoch 84/100\n",
      "5/5 [==============================] - 1s 103ms/step - loss: 0.0142 - accuracy: 0.9935 - val_loss: 0.7577 - val_accuracy: 0.7692\n",
      "Epoch 85/100\n",
      "5/5 [==============================] - 1s 109ms/step - loss: 0.0205 - accuracy: 0.9871 - val_loss: 0.9626 - val_accuracy: 0.7179\n",
      "Epoch 86/100\n",
      "5/5 [==============================] - 1s 108ms/step - loss: 0.0170 - accuracy: 0.9935 - val_loss: 0.8932 - val_accuracy: 0.7179\n",
      "Epoch 87/100\n",
      "5/5 [==============================] - 1s 105ms/step - loss: 0.0126 - accuracy: 0.9935 - val_loss: 0.7494 - val_accuracy: 0.7949\n",
      "Epoch 88/100\n",
      "5/5 [==============================] - 1s 108ms/step - loss: 0.0156 - accuracy: 0.9935 - val_loss: 0.7629 - val_accuracy: 0.7436\n",
      "Epoch 89/100\n",
      "5/5 [==============================] - 1s 105ms/step - loss: 0.0180 - accuracy: 0.9871 - val_loss: 1.2734 - val_accuracy: 0.5897\n",
      "Epoch 90/100\n",
      "5/5 [==============================] - 1s 103ms/step - loss: 0.0792 - accuracy: 0.9742 - val_loss: 0.7171 - val_accuracy: 0.7949\n",
      "Epoch 91/100\n",
      "5/5 [==============================] - 1s 108ms/step - loss: 0.0667 - accuracy: 0.9742 - val_loss: 0.5071 - val_accuracy: 0.8205\n",
      "Epoch 92/100\n",
      "5/5 [==============================] - 1s 112ms/step - loss: 0.0225 - accuracy: 0.9871 - val_loss: 0.5526 - val_accuracy: 0.7436\n",
      "Epoch 93/100\n",
      "5/5 [==============================] - 0s 102ms/step - loss: 0.0304 - accuracy: 0.9935 - val_loss: 0.5523 - val_accuracy: 0.8205\n",
      "Epoch 94/100\n",
      "5/5 [==============================] - 1s 104ms/step - loss: 0.0282 - accuracy: 0.9935 - val_loss: 0.4905 - val_accuracy: 0.8205\n",
      "Epoch 95/100\n",
      "5/5 [==============================] - 1s 104ms/step - loss: 0.0323 - accuracy: 0.9871 - val_loss: 0.5310 - val_accuracy: 0.8462\n",
      "Epoch 96/100\n",
      "5/5 [==============================] - 1s 104ms/step - loss: 0.0248 - accuracy: 0.9935 - val_loss: 0.5605 - val_accuracy: 0.7692\n",
      "Epoch 97/100\n",
      "5/5 [==============================] - 1s 108ms/step - loss: 0.0404 - accuracy: 0.9871 - val_loss: 0.5227 - val_accuracy: 0.8462\n",
      "Epoch 98/100\n",
      "5/5 [==============================] - 1s 132ms/step - loss: 0.0194 - accuracy: 0.9935 - val_loss: 0.5211 - val_accuracy: 0.7949\n",
      "Epoch 99/100\n",
      "5/5 [==============================] - 1s 107ms/step - loss: 0.0226 - accuracy: 0.9935 - val_loss: 0.5366 - val_accuracy: 0.7949\n",
      "Epoch 100/100\n",
      "5/5 [==============================] - 1s 123ms/step - loss: 0.0195 - accuracy: 0.9935 - val_loss: 0.5408 - val_accuracy: 0.8205\n"
     ]
    }
   ],
   "source": [
    "model = Sequential()\n",
    "# Keras Embedding layer with Word2Vec weights initialization\n",
    "model.add(Embedding(input_dim=vocab_size1,\n",
    "                    output_dim=embedding_size,\n",
    "                    weights=[embed_matrix],\n",
    "                    input_length=maxi+1,\n",
    "                    ))\n",
    "\n",
    "model.add(Bidirectional(LSTM(30)))\n",
    "# model.add(Dropout(0.2))\n",
    "model.add(Dense(num_classes, activation='softmax'))\n",
    "# model.add(Flatten())\n",
    "model.compile(optimizer='adam', loss='binary_crossentropy', metrics=['accuracy'])\n",
    "\n",
    "history = model.fit(X_train, y_train, epochs=100, batch_size=32,\n",
    "                    validation_data=(X_validation, y_validation), verbose=1)"
   ]
  },
  {
   "cell_type": "code",
   "execution_count": 46,
   "id": "afb7f625",
   "metadata": {},
   "outputs": [
    {
     "name": "stdout",
     "output_type": "stream",
     "text": [
      "5/5 [==============================] - 0s 23ms/step - loss: 0.0179 - accuracy: 0.9935\n",
      "Training Accuracy:  0.9935483932495117\n"
     ]
    }
   ],
   "source": [
    "train_score = model.evaluate(X_train, y_train, verbose=1)\n",
    "print(\"Training Accuracy: \", train_score[1])"
   ]
  },
  {
   "cell_type": "code",
   "execution_count": 47,
   "id": "5bfc59d4",
   "metadata": {},
   "outputs": [],
   "source": [
    "X_unlabeled = X_test"
   ]
  },
  {
   "cell_type": "code",
   "execution_count": 48,
   "id": "78c9d4ca",
   "metadata": {},
   "outputs": [],
   "source": [
    "X_test1 = X_unlabeled[:100]"
   ]
  },
  {
   "cell_type": "code",
   "execution_count": 49,
   "id": "ab751bd3",
   "metadata": {},
   "outputs": [],
   "source": [
    "predictions = model.predict([X_test1])"
   ]
  },
  {
   "cell_type": "code",
   "execution_count": 52,
   "id": "a586003b",
   "metadata": {},
   "outputs": [],
   "source": [
    "y_new1 = []\n",
    "for p in predictions:\n",
    "    i = np.argmax(p)\n",
    "    y_new1.append(i)"
   ]
  },
  {
   "cell_type": "code",
   "execution_count": 57,
   "id": "97cfd822",
   "metadata": {},
   "outputs": [],
   "source": [
    "X_labeled1 = np.concatenate((X_train, X_validation), axis=0)\n",
    "X_labeled1 = np.concatenate((X_labeled1, X_test1), axis=0)"
   ]
  },
  {
   "cell_type": "code",
   "execution_count": 59,
   "id": "cdb8f936",
   "metadata": {},
   "outputs": [
    {
     "data": {
      "text/plain": [
       "(294, 379)"
      ]
     },
     "execution_count": 59,
     "metadata": {},
     "output_type": "execute_result"
    }
   ],
   "source": [
    "X_labeled1.shape"
   ]
  },
  {
   "cell_type": "code",
   "execution_count": 61,
   "id": "b2f3dce5",
   "metadata": {},
   "outputs": [
    {
     "data": {
      "text/plain": [
       "(194, 2)"
      ]
     },
     "execution_count": 61,
     "metadata": {},
     "output_type": "execute_result"
    }
   ],
   "source": [
    "ycat_labeled.shape"
   ]
  },
  {
   "cell_type": "code",
   "execution_count": 60,
   "id": "da92bd19",
   "metadata": {},
   "outputs": [
    {
     "data": {
      "text/plain": [
       "(100, 2)"
      ]
     },
     "execution_count": 60,
     "metadata": {},
     "output_type": "execute_result"
    }
   ],
   "source": [
    "ycat_new1 = to_categorical(y_new1)\n",
    "ycat_new1.shape"
   ]
  },
  {
   "cell_type": "code",
   "execution_count": 62,
   "id": "3feec885",
   "metadata": {},
   "outputs": [
    {
     "data": {
      "text/plain": [
       "(294, 2)"
      ]
     },
     "execution_count": 62,
     "metadata": {},
     "output_type": "execute_result"
    }
   ],
   "source": [
    "y_labeled1 = np.concatenate((ycat_labeled, ycat_new1), axis=0)\n",
    "y_labeled1.shape"
   ]
  },
  {
   "cell_type": "code",
   "execution_count": 63,
   "id": "975bbb92",
   "metadata": {},
   "outputs": [],
   "source": [
    "X_train1, X_validation1, y_train1, y_validation1 = train_test_split(X_labeled1, y_labeled1, test_size=0.2, shuffle=True, random_state=42)"
   ]
  },
  {
   "cell_type": "code",
   "execution_count": 64,
   "id": "8a3b231a",
   "metadata": {},
   "outputs": [
    {
     "name": "stdout",
     "output_type": "stream",
     "text": [
      "(235, 379)\n",
      "(235, 2)\n",
      "(59, 379)\n",
      "(59, 2)\n",
      "(100, 379)\n"
     ]
    }
   ],
   "source": [
    "print(X_train1.shape), print(y_train1.shape)\n",
    "print(X_validation1.shape), print(y_validation1.shape)\n",
    "print(X_test1.shape)"
   ]
  },
  {
   "cell_type": "code",
   "execution_count": 66,
   "id": "401346e9",
   "metadata": {},
   "outputs": [
    {
     "name": "stdout",
     "output_type": "stream",
     "text": [
      "Epoch 1/100\n",
      "8/8 [==============================] - 4s 169ms/step - loss: 0.6817 - accuracy: 0.5872 - val_loss: 0.6144 - val_accuracy: 0.7288\n",
      "Epoch 2/100\n",
      "8/8 [==============================] - 1s 95ms/step - loss: 0.6491 - accuracy: 0.6468 - val_loss: 0.5679 - val_accuracy: 0.7288\n",
      "Epoch 3/100\n",
      "8/8 [==============================] - 1s 97ms/step - loss: 0.6430 - accuracy: 0.6468 - val_loss: 0.5683 - val_accuracy: 0.7288\n",
      "Epoch 4/100\n",
      "8/8 [==============================] - 1s 97ms/step - loss: 0.6399 - accuracy: 0.6468 - val_loss: 0.5674 - val_accuracy: 0.7288\n",
      "Epoch 5/100\n",
      "8/8 [==============================] - 1s 100ms/step - loss: 0.6361 - accuracy: 0.6468 - val_loss: 0.5753 - val_accuracy: 0.7288\n",
      "Epoch 6/100\n",
      "8/8 [==============================] - 1s 104ms/step - loss: 0.6334 - accuracy: 0.6468 - val_loss: 0.5758 - val_accuracy: 0.7288\n",
      "Epoch 7/100\n",
      "8/8 [==============================] - 1s 115ms/step - loss: 0.6301 - accuracy: 0.6468 - val_loss: 0.5710 - val_accuracy: 0.7288\n",
      "Epoch 8/100\n",
      "8/8 [==============================] - 1s 124ms/step - loss: 0.6250 - accuracy: 0.6596 - val_loss: 0.5630 - val_accuracy: 0.7458\n",
      "Epoch 9/100\n",
      "8/8 [==============================] - 1s 133ms/step - loss: 0.6184 - accuracy: 0.6723 - val_loss: 0.5537 - val_accuracy: 0.7288\n",
      "Epoch 10/100\n",
      "8/8 [==============================] - 1s 124ms/step - loss: 0.6081 - accuracy: 0.6723 - val_loss: 0.5608 - val_accuracy: 0.7119\n",
      "Epoch 11/100\n",
      "8/8 [==============================] - 1s 138ms/step - loss: 0.5856 - accuracy: 0.6723 - val_loss: 0.5673 - val_accuracy: 0.7627\n",
      "Epoch 12/100\n",
      "8/8 [==============================] - 1s 130ms/step - loss: 0.5422 - accuracy: 0.6894 - val_loss: 0.5766 - val_accuracy: 0.7966\n",
      "Epoch 13/100\n",
      "8/8 [==============================] - 1s 150ms/step - loss: 0.4876 - accuracy: 0.7702 - val_loss: 0.6485 - val_accuracy: 0.6441\n",
      "Epoch 14/100\n",
      "8/8 [==============================] - 1s 149ms/step - loss: 0.5295 - accuracy: 0.8553 - val_loss: 0.5375 - val_accuracy: 0.7797\n",
      "Epoch 15/100\n",
      "8/8 [==============================] - 1s 120ms/step - loss: 0.4497 - accuracy: 0.8426 - val_loss: 0.6439 - val_accuracy: 0.6271\n",
      "Epoch 16/100\n",
      "8/8 [==============================] - 1s 107ms/step - loss: 0.3653 - accuracy: 0.8979 - val_loss: 0.5695 - val_accuracy: 0.7288\n",
      "Epoch 17/100\n",
      "8/8 [==============================] - 1s 121ms/step - loss: 0.3329 - accuracy: 0.8936 - val_loss: 0.5976 - val_accuracy: 0.6102\n",
      "Epoch 18/100\n",
      "8/8 [==============================] - 1s 117ms/step - loss: 0.3019 - accuracy: 0.9234 - val_loss: 0.6206 - val_accuracy: 0.6271\n",
      "Epoch 19/100\n",
      "8/8 [==============================] - 1s 119ms/step - loss: 0.2569 - accuracy: 0.9319 - val_loss: 0.6664 - val_accuracy: 0.6441\n",
      "Epoch 20/100\n",
      "8/8 [==============================] - 1s 141ms/step - loss: 0.2212 - accuracy: 0.9362 - val_loss: 0.5939 - val_accuracy: 0.6441\n",
      "Epoch 21/100\n",
      "8/8 [==============================] - 1s 136ms/step - loss: 0.2169 - accuracy: 0.9532 - val_loss: 0.5675 - val_accuracy: 0.6271\n",
      "Epoch 22/100\n",
      "8/8 [==============================] - 1s 112ms/step - loss: 0.1801 - accuracy: 0.9489 - val_loss: 0.6771 - val_accuracy: 0.6780\n",
      "Epoch 23/100\n",
      "8/8 [==============================] - 1s 101ms/step - loss: 0.2073 - accuracy: 0.9362 - val_loss: 0.8306 - val_accuracy: 0.5424\n",
      "Epoch 24/100\n",
      "8/8 [==============================] - 1s 105ms/step - loss: 0.1495 - accuracy: 0.9702 - val_loss: 0.5831 - val_accuracy: 0.7119\n",
      "Epoch 25/100\n",
      "8/8 [==============================] - 1s 111ms/step - loss: 0.2236 - accuracy: 0.9447 - val_loss: 0.5722 - val_accuracy: 0.6780\n",
      "Epoch 26/100\n",
      "8/8 [==============================] - 1s 101ms/step - loss: 0.1745 - accuracy: 0.9532 - val_loss: 0.6291 - val_accuracy: 0.6610\n",
      "Epoch 27/100\n",
      "8/8 [==============================] - 1s 106ms/step - loss: 0.1294 - accuracy: 0.9745 - val_loss: 0.7064 - val_accuracy: 0.6441\n",
      "Epoch 28/100\n",
      "8/8 [==============================] - 1s 99ms/step - loss: 0.1218 - accuracy: 0.9745 - val_loss: 0.6980 - val_accuracy: 0.6610\n",
      "Epoch 29/100\n",
      "8/8 [==============================] - 1s 101ms/step - loss: 0.0984 - accuracy: 0.9872 - val_loss: 0.6565 - val_accuracy: 0.6780\n",
      "Epoch 30/100\n",
      "8/8 [==============================] - 1s 110ms/step - loss: 0.0985 - accuracy: 0.9787 - val_loss: 0.6594 - val_accuracy: 0.6949\n",
      "Epoch 31/100\n",
      "8/8 [==============================] - 1s 98ms/step - loss: 0.0738 - accuracy: 0.9872 - val_loss: 0.6844 - val_accuracy: 0.6610\n",
      "Epoch 32/100\n",
      "8/8 [==============================] - 1s 105ms/step - loss: 0.0703 - accuracy: 0.9830 - val_loss: 0.7003 - val_accuracy: 0.6949\n",
      "Epoch 33/100\n",
      "8/8 [==============================] - 1s 106ms/step - loss: 0.0724 - accuracy: 0.9830 - val_loss: 0.8367 - val_accuracy: 0.6610\n",
      "Epoch 34/100\n",
      "8/8 [==============================] - 1s 124ms/step - loss: 0.0646 - accuracy: 0.9872 - val_loss: 0.8238 - val_accuracy: 0.6441\n",
      "Epoch 35/100\n",
      "8/8 [==============================] - 1s 117ms/step - loss: 0.0536 - accuracy: 0.9872 - val_loss: 0.8206 - val_accuracy: 0.6780\n",
      "Epoch 36/100\n",
      "8/8 [==============================] - 1s 110ms/step - loss: 0.0541 - accuracy: 0.9915 - val_loss: 0.8153 - val_accuracy: 0.6780\n",
      "Epoch 37/100\n",
      "8/8 [==============================] - 1s 120ms/step - loss: 0.0481 - accuracy: 0.9915 - val_loss: 0.8184 - val_accuracy: 0.6780\n",
      "Epoch 38/100\n",
      "8/8 [==============================] - 1s 152ms/step - loss: 0.0470 - accuracy: 0.9915 - val_loss: 0.8591 - val_accuracy: 0.6780\n",
      "Epoch 39/100\n",
      "8/8 [==============================] - 1s 117ms/step - loss: 0.0409 - accuracy: 0.9957 - val_loss: 0.9117 - val_accuracy: 0.6441\n",
      "Epoch 40/100\n",
      "8/8 [==============================] - 1s 124ms/step - loss: 0.0433 - accuracy: 0.9872 - val_loss: 0.9598 - val_accuracy: 0.6102\n",
      "Epoch 41/100\n",
      "8/8 [==============================] - 1s 111ms/step - loss: 0.0450 - accuracy: 0.9915 - val_loss: 0.8727 - val_accuracy: 0.6949\n",
      "Epoch 42/100\n",
      "8/8 [==============================] - 1s 110ms/step - loss: 0.0433 - accuracy: 0.9915 - val_loss: 0.9165 - val_accuracy: 0.6610\n",
      "Epoch 43/100\n",
      "8/8 [==============================] - 1s 120ms/step - loss: 0.0382 - accuracy: 0.9915 - val_loss: 0.9480 - val_accuracy: 0.6610\n",
      "Epoch 44/100\n",
      "8/8 [==============================] - 1s 120ms/step - loss: 0.0360 - accuracy: 0.9957 - val_loss: 1.0115 - val_accuracy: 0.6102\n",
      "Epoch 45/100\n",
      "8/8 [==============================] - 1s 112ms/step - loss: 0.0411 - accuracy: 0.9872 - val_loss: 0.9230 - val_accuracy: 0.6780\n",
      "Epoch 46/100\n",
      "8/8 [==============================] - 1s 107ms/step - loss: 0.0440 - accuracy: 0.9915 - val_loss: 0.9828 - val_accuracy: 0.5932\n",
      "Epoch 47/100\n",
      "8/8 [==============================] - 1s 105ms/step - loss: 0.0343 - accuracy: 0.9915 - val_loss: 0.8810 - val_accuracy: 0.7119\n",
      "Epoch 48/100\n",
      "8/8 [==============================] - 1s 112ms/step - loss: 0.0350 - accuracy: 0.9915 - val_loss: 0.9019 - val_accuracy: 0.6949\n",
      "Epoch 49/100\n",
      "8/8 [==============================] - 1s 111ms/step - loss: 0.0303 - accuracy: 0.9957 - val_loss: 0.9576 - val_accuracy: 0.6441\n",
      "Epoch 50/100\n",
      "8/8 [==============================] - 1s 111ms/step - loss: 0.0300 - accuracy: 0.9957 - val_loss: 0.9914 - val_accuracy: 0.6441\n",
      "Epoch 51/100\n",
      "8/8 [==============================] - 1s 101ms/step - loss: 0.0282 - accuracy: 0.9915 - val_loss: 0.9486 - val_accuracy: 0.6949\n",
      "Epoch 52/100\n",
      "8/8 [==============================] - 1s 102ms/step - loss: 0.0270 - accuracy: 0.9915 - val_loss: 1.0410 - val_accuracy: 0.6102\n",
      "Epoch 53/100\n",
      "8/8 [==============================] - 1s 104ms/step - loss: 0.0319 - accuracy: 0.9915 - val_loss: 1.0115 - val_accuracy: 0.6949\n",
      "Epoch 54/100\n",
      "8/8 [==============================] - 1s 102ms/step - loss: 0.0296 - accuracy: 0.9915 - val_loss: 1.0024 - val_accuracy: 0.6780\n",
      "Epoch 55/100\n",
      "8/8 [==============================] - 1s 102ms/step - loss: 0.0252 - accuracy: 0.9957 - val_loss: 1.1136 - val_accuracy: 0.5932\n",
      "Epoch 56/100\n",
      "8/8 [==============================] - 1s 105ms/step - loss: 0.0267 - accuracy: 0.9915 - val_loss: 1.0855 - val_accuracy: 0.6102\n",
      "Epoch 57/100\n",
      "8/8 [==============================] - 1s 105ms/step - loss: 0.0230 - accuracy: 0.9957 - val_loss: 1.0038 - val_accuracy: 0.6780\n",
      "Epoch 58/100\n",
      "8/8 [==============================] - 1s 100ms/step - loss: 0.0271 - accuracy: 0.9915 - val_loss: 1.0856 - val_accuracy: 0.6102\n"
     ]
    },
    {
     "name": "stdout",
     "output_type": "stream",
     "text": [
      "Epoch 59/100\n",
      "8/8 [==============================] - 1s 103ms/step - loss: 0.0228 - accuracy: 0.9957 - val_loss: 1.2107 - val_accuracy: 0.6102\n",
      "Epoch 60/100\n",
      "8/8 [==============================] - 1s 102ms/step - loss: 0.0248 - accuracy: 0.9915 - val_loss: 1.0650 - val_accuracy: 0.6441\n",
      "Epoch 61/100\n",
      "8/8 [==============================] - 1s 103ms/step - loss: 0.0263 - accuracy: 0.9915 - val_loss: 1.0196 - val_accuracy: 0.6780\n",
      "Epoch 62/100\n",
      "8/8 [==============================] - 1s 102ms/step - loss: 0.0270 - accuracy: 0.9915 - val_loss: 1.3028 - val_accuracy: 0.6102\n",
      "Epoch 63/100\n",
      "8/8 [==============================] - 1s 100ms/step - loss: 0.0260 - accuracy: 0.9872 - val_loss: 0.9906 - val_accuracy: 0.6441\n",
      "Epoch 64/100\n",
      "8/8 [==============================] - 1s 102ms/step - loss: 0.0857 - accuracy: 0.9745 - val_loss: 1.2564 - val_accuracy: 0.5763\n",
      "Epoch 65/100\n",
      "8/8 [==============================] - 1s 102ms/step - loss: 0.2717 - accuracy: 0.9106 - val_loss: 0.8301 - val_accuracy: 0.7627\n",
      "Epoch 66/100\n",
      "8/8 [==============================] - 1s 102ms/step - loss: 0.2443 - accuracy: 0.9021 - val_loss: 0.8008 - val_accuracy: 0.6102\n",
      "Epoch 67/100\n",
      "8/8 [==============================] - 1s 102ms/step - loss: 0.0785 - accuracy: 0.9787 - val_loss: 0.7008 - val_accuracy: 0.6610\n",
      "Epoch 68/100\n",
      "8/8 [==============================] - 1s 102ms/step - loss: 0.0642 - accuracy: 0.9787 - val_loss: 0.6065 - val_accuracy: 0.7288\n",
      "Epoch 69/100\n",
      "8/8 [==============================] - 1s 102ms/step - loss: 0.0490 - accuracy: 0.9872 - val_loss: 0.6095 - val_accuracy: 0.7119\n",
      "Epoch 70/100\n",
      "8/8 [==============================] - 1s 105ms/step - loss: 0.0412 - accuracy: 0.9915 - val_loss: 0.6069 - val_accuracy: 0.7119\n",
      "Epoch 71/100\n",
      "8/8 [==============================] - 1s 100ms/step - loss: 0.0362 - accuracy: 0.9915 - val_loss: 0.6146 - val_accuracy: 0.7119\n",
      "Epoch 72/100\n",
      "8/8 [==============================] - 1s 102ms/step - loss: 0.0331 - accuracy: 0.9957 - val_loss: 0.6365 - val_accuracy: 0.7119\n",
      "Epoch 73/100\n",
      "8/8 [==============================] - 1s 102ms/step - loss: 0.0311 - accuracy: 0.9957 - val_loss: 0.6573 - val_accuracy: 0.7288\n",
      "Epoch 74/100\n",
      "8/8 [==============================] - 1s 102ms/step - loss: 0.0286 - accuracy: 0.9915 - val_loss: 0.6951 - val_accuracy: 0.7288\n",
      "Epoch 75/100\n",
      "8/8 [==============================] - 1s 105ms/step - loss: 0.0283 - accuracy: 0.9915 - val_loss: 0.6938 - val_accuracy: 0.7119\n",
      "Epoch 76/100\n",
      "8/8 [==============================] - 1s 112ms/step - loss: 0.0271 - accuracy: 0.9915 - val_loss: 0.6850 - val_accuracy: 0.7119\n",
      "Epoch 77/100\n",
      "8/8 [==============================] - 1s 107ms/step - loss: 0.0251 - accuracy: 0.9957 - val_loss: 0.7017 - val_accuracy: 0.7119\n",
      "Epoch 78/100\n",
      "8/8 [==============================] - 1s 105ms/step - loss: 0.0242 - accuracy: 0.9872 - val_loss: 0.7225 - val_accuracy: 0.7119\n",
      "Epoch 79/100\n",
      "8/8 [==============================] - 1s 102ms/step - loss: 0.0232 - accuracy: 0.9915 - val_loss: 0.7214 - val_accuracy: 0.7288\n",
      "Epoch 80/100\n",
      "8/8 [==============================] - 1s 102ms/step - loss: 0.0224 - accuracy: 0.9957 - val_loss: 0.7258 - val_accuracy: 0.7288\n",
      "Epoch 81/100\n",
      "8/8 [==============================] - 1s 100ms/step - loss: 0.0217 - accuracy: 0.9957 - val_loss: 0.7348 - val_accuracy: 0.7288\n",
      "Epoch 82/100\n",
      "8/8 [==============================] - 1s 103ms/step - loss: 0.0219 - accuracy: 0.9915 - val_loss: 0.7430 - val_accuracy: 0.7288\n",
      "Epoch 83/100\n",
      "8/8 [==============================] - 1s 102ms/step - loss: 0.0201 - accuracy: 0.9957 - val_loss: 0.7512 - val_accuracy: 0.7288\n",
      "Epoch 84/100\n",
      "8/8 [==============================] - 1s 100ms/step - loss: 0.0221 - accuracy: 0.9915 - val_loss: 0.7611 - val_accuracy: 0.7458\n",
      "Epoch 85/100\n",
      "8/8 [==============================] - 1s 100ms/step - loss: 0.0201 - accuracy: 0.9915 - val_loss: 0.7694 - val_accuracy: 0.7458\n",
      "Epoch 86/100\n",
      "8/8 [==============================] - 1s 102ms/step - loss: 0.0192 - accuracy: 0.9957 - val_loss: 0.7741 - val_accuracy: 0.7288\n",
      "Epoch 87/100\n",
      "8/8 [==============================] - 1s 102ms/step - loss: 0.0200 - accuracy: 0.9915 - val_loss: 0.7846 - val_accuracy: 0.7458\n",
      "Epoch 88/100\n",
      "8/8 [==============================] - 1s 100ms/step - loss: 0.0203 - accuracy: 0.9915 - val_loss: 0.7931 - val_accuracy: 0.7458\n",
      "Epoch 89/100\n",
      "8/8 [==============================] - 1s 100ms/step - loss: 0.0198 - accuracy: 0.9915 - val_loss: 0.8006 - val_accuracy: 0.7458\n",
      "Epoch 90/100\n",
      "8/8 [==============================] - 1s 102ms/step - loss: 0.0180 - accuracy: 0.9957 - val_loss: 0.8580 - val_accuracy: 0.7119\n",
      "Epoch 91/100\n",
      "8/8 [==============================] - 1s 100ms/step - loss: 0.0198 - accuracy: 0.9915 - val_loss: 0.8195 - val_accuracy: 0.7458\n",
      "Epoch 92/100\n",
      "8/8 [==============================] - 1s 102ms/step - loss: 0.0179 - accuracy: 0.9915 - val_loss: 0.8233 - val_accuracy: 0.7458\n",
      "Epoch 93/100\n",
      "8/8 [==============================] - 1s 100ms/step - loss: 0.0196 - accuracy: 0.9872 - val_loss: 0.8281 - val_accuracy: 0.7458\n",
      "Epoch 94/100\n",
      "8/8 [==============================] - 1s 102ms/step - loss: 0.0199 - accuracy: 0.9872 - val_loss: 0.8299 - val_accuracy: 0.7458\n",
      "Epoch 95/100\n",
      "8/8 [==============================] - 1s 102ms/step - loss: 0.0168 - accuracy: 0.9957 - val_loss: 0.8389 - val_accuracy: 0.7458\n",
      "Epoch 96/100\n",
      "8/8 [==============================] - 1s 100ms/step - loss: 0.0179 - accuracy: 0.9915 - val_loss: 0.8459 - val_accuracy: 0.7458\n",
      "Epoch 97/100\n",
      "8/8 [==============================] - 1s 104ms/step - loss: 0.0188 - accuracy: 0.9915 - val_loss: 0.8479 - val_accuracy: 0.7458\n",
      "Epoch 98/100\n",
      "8/8 [==============================] - 1s 102ms/step - loss: 0.0168 - accuracy: 0.9915 - val_loss: 0.8538 - val_accuracy: 0.7458\n",
      "Epoch 99/100\n",
      "8/8 [==============================] - 1s 102ms/step - loss: 0.0161 - accuracy: 0.9957 - val_loss: 0.8695 - val_accuracy: 0.7288\n",
      "Epoch 100/100\n",
      "8/8 [==============================] - 1s 102ms/step - loss: 0.0168 - accuracy: 0.9915 - val_loss: 0.8707 - val_accuracy: 0.7458\n"
     ]
    }
   ],
   "source": [
    "model = Sequential()\n",
    "# Keras Embedding layer with Word2Vec weights initialization\n",
    "model.add(Embedding(input_dim=vocab_size1,\n",
    "                    output_dim=embedding_size,\n",
    "                    weights=[embed_matrix],\n",
    "                    input_length=maxi+1,\n",
    "                    ))\n",
    "\n",
    "model.add(Bidirectional(LSTM(30)))\n",
    "# model.add(Dropout(0.2))\n",
    "model.add(Dense(num_classes, activation='softmax'))\n",
    "# model.add(Flatten())\n",
    "model.compile(optimizer='adam', loss='binary_crossentropy', metrics=['accuracy'])\n",
    "\n",
    "history = model.fit(X_train1, y_train1, epochs=100, batch_size=32,\n",
    "                    validation_data=(X_validation1, y_validation1), verbose=1)"
   ]
  },
  {
   "cell_type": "code",
   "execution_count": null,
   "id": "889245de",
   "metadata": {},
   "outputs": [],
   "source": []
  }
 ],
 "metadata": {
  "kernelspec": {
   "display_name": "Python 3 (ipykernel)",
   "language": "python",
   "name": "python3"
  },
  "language_info": {
   "codemirror_mode": {
    "name": "ipython",
    "version": 3
   },
   "file_extension": ".py",
   "mimetype": "text/x-python",
   "name": "python",
   "nbconvert_exporter": "python",
   "pygments_lexer": "ipython3",
   "version": "3.10.3"
  }
 },
 "nbformat": 4,
 "nbformat_minor": 5
}
