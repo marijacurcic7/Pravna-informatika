{
 "cells": [
  {
   "cell_type": "code",
   "execution_count": 1,
   "id": "d2354c41",
   "metadata": {},
   "outputs": [],
   "source": [
    "import os\n",
    "import re"
   ]
  },
  {
   "cell_type": "code",
   "execution_count": 2,
   "id": "61bf6d7b",
   "metadata": {},
   "outputs": [],
   "source": [
    "rootdir = 'data'\n",
    "filepaths = []\n",
    "\n",
    "for subdir, dirs, files in os.walk(rootdir):\n",
    "    for file in files:\n",
    "        filename = os.path.join(subdir, file)\n",
    "        filepaths.append(filename)"
   ]
  },
  {
   "cell_type": "code",
   "execution_count": 3,
   "id": "faca51b6",
   "metadata": {},
   "outputs": [
    {
     "data": {
      "text/plain": [
       "3504"
      ]
     },
     "execution_count": 3,
     "metadata": {},
     "output_type": "execute_result"
    }
   ],
   "source": [
    "len(filepaths)"
   ]
  },
  {
   "cell_type": "code",
   "execution_count": 4,
   "id": "0c71d45d",
   "metadata": {},
   "outputs": [
    {
     "data": {
      "text/plain": [
       "'data\\\\I - PREDMETI IZVRŠENJA\\\\presuda_text_1304.txt'"
      ]
     },
     "execution_count": 4,
     "metadata": {},
     "output_type": "execute_result"
    }
   ],
   "source": [
    "filepaths[0]"
   ]
  },
  {
   "cell_type": "code",
   "execution_count": 44,
   "id": "a1c293d3",
   "metadata": {
    "scrolled": true
   },
   "outputs": [
    {
     "name": "stdout",
     "output_type": "stream",
     "text": [
      "[12, 356, 357, 377, 765, 923, 1092, 1365, 1764, 1825, 1826, 1827, 1882, 1883, 1894, 1907, 1926, 1949, 2014, 2082, 2141, 2198, 2199, 2212]\n"
     ]
    }
   ],
   "source": [
    "file = filepaths[0]\n",
    "f = open(file, \"r\", encoding=\"utf8\")\n",
    "sadrzaj = f.read()\n",
    "# sadrzaj.find('\\n')\n",
    "indices = [i.start() for i in re.finditer('\\n', sadrzaj)]\n",
    "print(indices)\n",
    "\n",
    "pasusi = []\n",
    "ind0 = 0 #pocetni indeks\n",
    "for ind in indices:\n",
    "    ind1 = ind\n",
    "    pasus = sadrzaj[ind0+1:ind1]\n",
    "    if pasus != '':\n",
    "        pasusi.append(pasus)\n",
    "    ind0 = ind1"
   ]
  },
  {
   "cell_type": "code",
   "execution_count": 6,
   "id": "93923b68",
   "metadata": {},
   "outputs": [
    {
     "data": {
      "text/plain": [
       "['.br. 376/07',\n",
       " '        **OSNOVNI SUD U NIKŠIĆU** , sudija Bojović Andrija, uz sudjelovanje Kadić Dragice kao zapisničara, u pravnoj stvari izvršnog povjerioca S P. .\"…..\" AD B., koju zastupa punomoćnik N.J. advokat iz P., protiv izvršnog dužnika M. Ž. iz N radi naplate novčanog potraživanja prodajom nekretnina izvršnog dužnika, dana 26.09.2011.g., donio je',\n",
       " 'ZAKLJUČAK O PRODAJI',\n",
       " '        **ODREĐUJE SE II-go** ročište za prodaju nekretnina izvršnog dužnika, upisanih u   listu  nepokretnosti br---- KO R-, kat.parcela br. ----, po kulturi livada povr. 1229m2, dvorište 500m2, objekat u izgradnji povr. 64m2 i zgrada poljoprivrede povr.69m2, ili ukupne povr. 1862m2, putem usmenog, javnog nadmetanja, **dana 2.11.2011.g. u 11 časova, kancelarija br. 14 ovoga suda.**  ',\n",
       " '        Vrijednost opisanih nepokretnosti iznosi 32.889,00 evra i na ovom ročištu se mogu prodati ispod utvrđene vrijednosti, ali ne ispod 2/3 vrijednosti.  ',\n",
       " '        Vrijednost nepokretnosti može se ponovo utvrditi na ročištu za prodaju, na predlog stranke koji mora biti podnesen najdocnije 8 dana prije ročišta za prodaju.  ',\n",
       " '        Lica zainteresovana za učešće na usmenom, javnom nadmetanju, osim izvršnog povjerilaca, dužna su da u depozit suda u gotovom ili na žiro račun br------------ na ime  jemstva  uplate iznos od 10% utvrđene vrijednosti i da na javnom nadmetanju polože dokaz o tome.  ',\n",
       " '        Najbolji ponudilac - kupac kome nepokretgnost bude prodata dužan je da utvrđenu cijenu za koju je nepokretnost prodata položi u depozit suda u roku od 15 dana od zaključenja usmenog, javnog nadmetanja. Ako kupac u tom roku ne položi cijenu prodaja će se  oglasiti nevažećom i odrediti nova prodaja a u tom slučaju će se iz položenog jemstva od strane kupca izmiriti troškovi nove prodaje.  ',\n",
       " '        Zaključak o prodaji objaviti na oglasnoj tabli suda.',\n",
       " '        **OSNOVNI SUD U NIKŠIĆU** , dana 26.09.2011.g.',\n",
       " 'Zapisničar',\n",
       " 'S U D I J A ',\n",
       " 'Kadić Dragica,s.r.',\n",
       " 'Bojović Andrija,s.r.  ',\n",
       " '                                            D-na 26.09.2011.g.  ',\n",
       " '                                             Zaključak dostaviti:  ',\n",
       " '                                            \\\\- strankama  ',\n",
       " '                                            \\\\- u spisima',\n",
       " 'Postupljeno:']"
      ]
     },
     "execution_count": 6,
     "metadata": {},
     "output_type": "execute_result"
    }
   ],
   "source": [
    "pasusi"
   ]
  },
  {
   "cell_type": "code",
   "execution_count": 7,
   "id": "b1fe6da6",
   "metadata": {},
   "outputs": [
    {
     "name": "stderr",
     "output_type": "stream",
     "text": [
      "[nltk_data] Downloading package punkt to\n",
      "[nltk_data]     C:\\Users\\marij\\AppData\\Roaming\\nltk_data...\n",
      "[nltk_data]   Package punkt is already up-to-date!\n"
     ]
    },
    {
     "data": {
      "text/plain": [
       "True"
      ]
     },
     "execution_count": 7,
     "metadata": {},
     "output_type": "execute_result"
    }
   ],
   "source": [
    "import nltk\n",
    "nltk.download('punkt')"
   ]
  },
  {
   "cell_type": "code",
   "execution_count": 45,
   "id": "4a82e055",
   "metadata": {},
   "outputs": [],
   "source": [
    "sadrzaj = sadrzaj.replace(\"\\n\", \" \")\n",
    "sadrzaj = sadrzaj.replace(\"\\t\", \" \")\n",
    "sadrzaj = sadrzaj.replace(\"*\", \"\")"
   ]
  },
  {
   "cell_type": "code",
   "execution_count": 46,
   "id": "c2007b63",
   "metadata": {},
   "outputs": [],
   "source": [
    "sadrzaj1 = \" \".join(sadrzaj.split())"
   ]
  },
  {
   "cell_type": "code",
   "execution_count": 34,
   "id": "aad37311",
   "metadata": {},
   "outputs": [
    {
     "name": "stdout",
     "output_type": "stream",
     "text": [
      "[4, 156, 199, 241, 244, 510, 540, 590, 646, 706, 735, 750, 908, 1077, 1350, 1562, 1749, 1812, 1865, 1909, 1930, 1995]\n"
     ]
    }
   ],
   "source": [
    "indices = [i.start() for i in re.finditer('\\. ', sadrzaj)]\n",
    "print(indices)"
   ]
  },
  {
   "cell_type": "code",
   "execution_count": 35,
   "id": "2497c314",
   "metadata": {},
   "outputs": [
    {
     "name": "stdout",
     "output_type": "stream",
     "text": [
      "Ž 0 241\n",
      "I.br. 376/07         OSNOVNI SUD U NIKŠIĆU , sudija Bojović Andrija, uz sudjelovanje Kadić Dragice kao zapisničara, u pravnoj stvari izvršnog povjerioca S P. .\"…..\" AD B., koju zastupa punomoćnik N.J. advokat iz P., protiv izvršnog dužnika M.\n",
      "A 242 1562\n",
      " Ž. iz N radi naplate novčanog potraživanja prodajom nekretnina izvršnog dužnika, dana 26.09.2011.g., donio je  ZAKLJUČAK O PRODAJI         ODREĐUJE SE II-go ročište za prodaju nekretnina izvršnog dužnika, upisanih u   listu  nepokretnosti br---- KO R-, kat.parcela br. ----, po kulturi livada povr. 1229m2, dvorište 500m2, objekat u izgradnji povr. 64m2 i zgrada poljoprivrede povr.69m2, ili ukupne povr. 1862m2, putem usmenog, javnog nadmetanja, dana 2.11.2011.g. u 11 časova, kancelarija br. 14 ovoga suda.           Vrijednost opisanih nepokretnosti iznosi 32.889,00 evra i na ovom ročištu se mogu prodati ispod utvrđene vrijednosti, ali ne ispod 2/3 vrijednosti.           Vrijednost nepokretnosti može se ponovo utvrditi na ročištu za prodaju, na predlog stranke koji mora biti podnesen najdocnije 8 dana prije ročišta za prodaju.           Lica zainteresovana za učešće na usmenom, javnom nadmetanju, osim izvršnog povjerilaca, dužna su da u depozit suda u gotovom ili na žiro račun br------------ na ime  jemstva  uplate iznos od 10% utvrđene vrijednosti i da na javnom nadmetanju polože dokaz o tome.           Najbolji ponudilac - kupac kome nepokretgnost bude prodata dužan je da utvrđenu cijenu za koju je nepokretnost prodata položi u depozit suda u roku od 15 dana od zaključenja usmenog, javnog nadmetanja.\n",
      "B 1563 1909\n",
      " Ako kupac u tom roku ne položi cijenu prodaja će se  oglasiti nevažećom i odrediti nova prodaja a u tom slučaju će se iz položenog jemstva od strane kupca izmiriti troškovi nove prodaje.           Zaključak o prodaji objaviti na oglasnoj tabli suda.           OSNOVNI SUD U NIKŠIĆU , dana 26.09.2011.g.  Zapisničar S U D I J A  Kadić Dragica,s.r.\n"
     ]
    }
   ],
   "source": [
    "recenice = []\n",
    "ind0 = 0 #pocetni indeks\n",
    "for ind in indices:\n",
    "    ind1 = ind\n",
    "    indc = ind1+2\n",
    "    slovo = sadrzaj[indc]\n",
    "#     print(slovo)\n",
    "    if(slovo.isupper()):\n",
    "        print(slovo, ind0, ind1)\n",
    "        recenica = sadrzaj[ind0:ind1+1]\n",
    "        print(recenica)\n",
    "        recenice.append(recenica)\n",
    "        ind0 = ind1+1"
   ]
  },
  {
   "cell_type": "code",
   "execution_count": 47,
   "id": "a204b224",
   "metadata": {},
   "outputs": [
    {
     "name": "stdout",
     "output_type": "stream",
     "text": [
      "1\n",
      "I.br. \n",
      "\n",
      "2\n",
      "376/07         OSNOVNI SUD U NIKŠIĆU , sudija Bojović Andrija, uz sudjelovanje Kadić Dragice kao zapisničara, u pravnoj stvari izvršnog povjerioca S P. \n",
      "\n",
      "3\n",
      ".\"…..\" \n",
      "\n",
      "4\n",
      "AD B., koju zastupa punomoćnik N.J. advokat iz P., protiv izvršnog dužnika M. Ž. iz N radi naplate novčanog potraživanja prodajom nekretnina izvršnog dužnika, dana 26.09.2011.g., donio je  ZAKLJUČAK O PRODAJI         ODREĐUJE SE II-go ročište za prodaju nekretnina izvršnog dužnika, upisanih u   listu  nepokretnosti br---- KO R-, kat.parcela br. \n",
      "\n",
      "5\n",
      "----, po kulturi livada povr. \n",
      "\n",
      "6\n",
      "1229m2, dvorište 500m2, objekat u izgradnji povr. \n",
      "\n",
      "7\n",
      "64m2 i zgrada poljoprivrede povr.69m2, ili ukupne povr. \n",
      "\n",
      "8\n",
      "1862m2, putem usmenog, javnog nadmetanja, dana 2.11.2011.g. \n",
      "\n",
      "9\n",
      "u 11 časova, kancelarija br. \n",
      "\n",
      "10\n",
      "14 ovoga suda. \n",
      "\n",
      "11\n",
      "Vrijednost opisanih nepokretnosti iznosi 32.889,00 evra i na ovom ročištu se mogu prodati ispod utvrđene vrijednosti, ali ne ispod 2/3 vrijednosti. \n",
      "\n",
      "12\n",
      "Vrijednost nepokretnosti može se ponovo utvrditi na ročištu za prodaju, na predlog stranke koji mora biti podnesen najdocnije 8 dana prije ročišta za prodaju. \n",
      "\n",
      "13\n",
      "Lica zainteresovana za učešće na usmenom, javnom nadmetanju, osim izvršnog povjerilaca, dužna su da u depozit suda u gotovom ili na žiro račun br------------ na ime  jemstva  uplate iznos od 10% utvrđene vrijednosti i da na javnom nadmetanju polože dokaz o tome. \n",
      "\n",
      "14\n",
      "Najbolji ponudilac - kupac kome nepokretgnost bude prodata dužan je da utvrđenu cijenu za koju je nepokretnost prodata položi u depozit suda u roku od 15 dana od zaključenja usmenog, javnog nadmetanja. \n",
      "\n",
      "15\n",
      "Ako kupac u tom roku ne položi cijenu prodaja će se  oglasiti nevažećom i odrediti nova prodaja a u tom slučaju će se iz položenog jemstva od strane kupca izmiriti troškovi nove prodaje. \n",
      "\n",
      "16\n",
      "Zaključak o prodaji objaviti na oglasnoj tabli suda. \n",
      "\n",
      "17\n",
      "OSNOVNI SUD U NIKŠIĆU , dana 26.09.2011.g. \n",
      "\n",
      "18\n",
      "Zapisničar S U D I J A  Kadić Dragica,s.r. \n",
      "\n",
      "19\n",
      "Bojović Andrija,s.r. \n",
      "\n",
      "20\n",
      "D-na 26.09.2011.g. \n",
      "\n",
      "21\n",
      "Zaključak dostaviti:                                               \\- strankama                                               \\- u spisima  Postupljeno: S U D I J A \n",
      "\n"
     ]
    }
   ],
   "source": [
    "tokens = nltk.sent_tokenize(sadrzaj)\n",
    "i = 0\n",
    "for t in tokens:\n",
    "    i += 1\n",
    "    print(i)\n",
    "    print (t, \"\\n\")\n",
    "#     result = \" \".join(t.split())\n",
    "#     r = repr(result)\n",
    "#     print(r)"
   ]
  },
  {
   "cell_type": "code",
   "execution_count": 48,
   "id": "54fc387b",
   "metadata": {},
   "outputs": [
    {
     "name": "stdout",
     "output_type": "stream",
     "text": [
      "1\n",
      "I.br. \n",
      "\n",
      "2\n",
      "376/07 OSNOVNI SUD U NIKŠIĆU , sudija Bojović Andrija, uz sudjelovanje Kadić Dragice kao zapisničara, u pravnoj stvari izvršnog povjerioca S P. \n",
      "\n",
      "3\n",
      ".\"…..\" \n",
      "\n",
      "4\n",
      "AD B., koju zastupa punomoćnik N.J. advokat iz P., protiv izvršnog dužnika M. Ž. iz N radi naplate novčanog potraživanja prodajom nekretnina izvršnog dužnika, dana 26.09.2011.g., donio je ZAKLJUČAK O PRODAJI ODREĐUJE SE II-go ročište za prodaju nekretnina izvršnog dužnika, upisanih u listu nepokretnosti br---- KO R-, kat.parcela br. \n",
      "\n",
      "5\n",
      "----, po kulturi livada povr. \n",
      "\n",
      "6\n",
      "1229m2, dvorište 500m2, objekat u izgradnji povr. \n",
      "\n",
      "7\n",
      "64m2 i zgrada poljoprivrede povr.69m2, ili ukupne povr. \n",
      "\n",
      "8\n",
      "1862m2, putem usmenog, javnog nadmetanja, dana 2.11.2011.g. \n",
      "\n",
      "9\n",
      "u 11 časova, kancelarija br. \n",
      "\n",
      "10\n",
      "14 ovoga suda. \n",
      "\n",
      "11\n",
      "Vrijednost opisanih nepokretnosti iznosi 32.889,00 evra i na ovom ročištu se mogu prodati ispod utvrđene vrijednosti, ali ne ispod 2/3 vrijednosti. \n",
      "\n",
      "12\n",
      "Vrijednost nepokretnosti može se ponovo utvrditi na ročištu za prodaju, na predlog stranke koji mora biti podnesen najdocnije 8 dana prije ročišta za prodaju. \n",
      "\n",
      "13\n",
      "Lica zainteresovana za učešće na usmenom, javnom nadmetanju, osim izvršnog povjerilaca, dužna su da u depozit suda u gotovom ili na žiro račun br------------ na ime jemstva uplate iznos od 10% utvrđene vrijednosti i da na javnom nadmetanju polože dokaz o tome. \n",
      "\n",
      "14\n",
      "Najbolji ponudilac - kupac kome nepokretgnost bude prodata dužan je da utvrđenu cijenu za koju je nepokretnost prodata položi u depozit suda u roku od 15 dana od zaključenja usmenog, javnog nadmetanja. \n",
      "\n",
      "15\n",
      "Ako kupac u tom roku ne položi cijenu prodaja će se oglasiti nevažećom i odrediti nova prodaja a u tom slučaju će se iz položenog jemstva od strane kupca izmiriti troškovi nove prodaje. \n",
      "\n",
      "16\n",
      "Zaključak o prodaji objaviti na oglasnoj tabli suda. \n",
      "\n",
      "17\n",
      "OSNOVNI SUD U NIKŠIĆU , dana 26.09.2011.g. \n",
      "\n",
      "18\n",
      "Zapisničar S U D I J A Kadić Dragica,s.r. \n",
      "\n",
      "19\n",
      "Bojović Andrija,s.r. \n",
      "\n",
      "20\n",
      "D-na 26.09.2011.g. \n",
      "\n",
      "21\n",
      "Zaključak dostaviti: \\- strankama \\- u spisima Postupljeno: S U D I J A \n",
      "\n"
     ]
    }
   ],
   "source": [
    "tokens = nltk.sent_tokenize(sadrzaj1)\n",
    "i = 0\n",
    "for t in tokens:\n",
    "    i += 1\n",
    "    print(i)\n",
    "    print (t, \"\\n\")"
   ]
  },
  {
   "cell_type": "code",
   "execution_count": null,
   "id": "e71ce35d",
   "metadata": {},
   "outputs": [],
   "source": []
  }
 ],
 "metadata": {
  "kernelspec": {
   "display_name": "Python 3 (ipykernel)",
   "language": "python",
   "name": "python3"
  },
  "language_info": {
   "codemirror_mode": {
    "name": "ipython",
    "version": 3
   },
   "file_extension": ".py",
   "mimetype": "text/x-python",
   "name": "python",
   "nbconvert_exporter": "python",
   "pygments_lexer": "ipython3",
   "version": "3.10.3"
  }
 },
 "nbformat": 4,
 "nbformat_minor": 5
}
